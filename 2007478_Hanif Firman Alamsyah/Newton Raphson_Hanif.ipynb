{
 "cells": [
  {
   "cell_type": "markdown",
   "metadata": {},
   "source": [
    "# Metode Newton Raphson"
   ]
  },
  {
   "cell_type": "code",
   "execution_count": 5,
   "metadata": {},
   "outputs": [
    {
     "name": "stdout",
     "output_type": "stream",
     "text": [
      "0   | 3.500000    | 143.562500    \n",
      "1   | 2.667754    | 43.318153    \n",
      "2   | 2.104775    | 11.730382    \n",
      "3   | 1.798478    | 2.260606    \n",
      "4   | 1.705329    | 0.162650    \n",
      "5   | 1.697523    | 0.001060    \n",
      "Result :  1.6975234185451624\n",
      "In 5 iteration\n"
     ]
    }
   ],
   "source": [
    "#metode newton-raphson\n",
    "def newtons(f,df,x0):\n",
    "  e = 10**-2\n",
    "  N = 100\n",
    "  for i in range (0,N):\n",
    "    print(\"%d   | %f    | %f    \" %(i,x0,f(x0)))\n",
    "    if abs(f(x0)) < e:\n",
    "      return x0,i\n",
    "    if df(x0) == 0:\n",
    "      print(\"Zero derivative\")\n",
    "      return None\n",
    "    x0 = x0 - f(x0)/df(x0)\n",
    "  print(\"Maximum iteration\")\n",
    "  return x0, i\n",
    "\n",
    "f  = lambda x: x**4+x-10\n",
    "df = lambda x: 4*x**3+1\n",
    "x0 = 3.5\n",
    "\n",
    "x_root, iteration = newtons(f,df,x0)\n",
    "print('Result : ', x_root)\n",
    "print('In %d iteration' %iteration)"
   ]
  }
 ],
 "metadata": {
  "kernelspec": {
   "display_name": "Python 3.10.7 64-bit",
   "language": "python",
   "name": "python3"
  },
  "language_info": {
   "codemirror_mode": {
    "name": "ipython",
    "version": 3
   },
   "file_extension": ".py",
   "mimetype": "text/x-python",
   "name": "python",
   "nbconvert_exporter": "python",
   "pygments_lexer": "ipython3",
   "version": "3.10.7"
  },
  "orig_nbformat": 4,
  "vscode": {
   "interpreter": {
    "hash": "e593ac106456af50ce7af38f9671c411b49d6cd90f9b885e167f0f594e09038c"
   }
  }
 },
 "nbformat": 4,
 "nbformat_minor": 2
}
