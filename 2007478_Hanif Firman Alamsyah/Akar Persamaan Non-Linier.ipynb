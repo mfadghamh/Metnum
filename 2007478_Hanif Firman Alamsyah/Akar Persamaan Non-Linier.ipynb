{
 "cells": [
  {
   "attachments": {},
   "cell_type": "markdown",
   "metadata": {},
   "source": [
    "Akar Persamaan Non-Linier\n",
    "\n",
    "Contoh Fungsi: f(x) = cos(x)-x"
   ]
  },
  {
   "cell_type": "code",
   "execution_count": 1,
   "metadata": {},
   "outputs": [
    {
     "ename": "ModuleNotFoundError",
     "evalue": "No module named 'numpy'",
     "output_type": "error",
     "traceback": [
      "\u001b[1;31m---------------------------------------------------------------------------\u001b[0m",
      "\u001b[1;31mModuleNotFoundError\u001b[0m                       Traceback (most recent call last)",
      "Cell \u001b[1;32mIn [1], line 2\u001b[0m\n\u001b[0;32m      1\u001b[0m \u001b[38;5;66;03m#memanggil library\u001b[39;00m\n\u001b[1;32m----> 2\u001b[0m \u001b[38;5;28;01mimport\u001b[39;00m \u001b[38;5;21;01mnumpy\u001b[39;00m \u001b[38;5;28;01mas\u001b[39;00m \u001b[38;5;21;01mnp\u001b[39;00m \n\u001b[0;32m      3\u001b[0m \u001b[38;5;28;01mfrom\u001b[39;00m \u001b[38;5;21;01mscipy\u001b[39;00m \u001b[38;5;28;01mimport\u001b[39;00m optimize \n\u001b[0;32m      4\u001b[0m f \u001b[38;5;241m=\u001b[39m \u001b[38;5;28;01mlambda\u001b[39;00m x: np\u001b[38;5;241m.\u001b[39mcos(x) \u001b[38;5;241m-\u001b[39m x\n",
      "\u001b[1;31mModuleNotFoundError\u001b[0m: No module named 'numpy'"
     ]
    }
   ],
   "source": [
    "#memanggil library\n",
    "import numpy as np \n",
    "from scipy import optimize \n",
    "f = lambda x: np.cos(x) - x\n",
    "r = optimize.fsolve(f, -2)\n",
    "print(\"r =\",r)\n",
    "# memverifikasi solusi dengan root\n",
    "result = f(r)\n",
    "print(\"result=\", result)"
   ]
  },
  {
   "attachments": {},
   "cell_type": "markdown",
   "metadata": {},
   "source": [
    "Metode Bagi Dua"
   ]
  },
  {
   "cell_type": "code",
   "execution_count": 1,
   "metadata": {},
   "outputs": [
    {
     "ename": "ModuleNotFoundError",
     "evalue": "No module named 'numpy'",
     "output_type": "error",
     "traceback": [
      "\u001b[1;31m---------------------------------------------------------------------------\u001b[0m",
      "\u001b[1;31mModuleNotFoundError\u001b[0m                       Traceback (most recent call last)",
      "Cell \u001b[1;32mIn [1], line 2\u001b[0m\n\u001b[0;32m      1\u001b[0m \u001b[38;5;66;03m#memanggil library \u001b[39;00m\n\u001b[1;32m----> 2\u001b[0m \u001b[38;5;28;01mimport\u001b[39;00m \u001b[38;5;21;01mnumpy\u001b[39;00m \u001b[38;5;28;01mas\u001b[39;00m \u001b[38;5;21;01mnp\u001b[39;00m \n\u001b[0;32m      3\u001b[0m \u001b[38;5;66;03m#mendefinisikan sebuah fungsi\u001b[39;00m\n\u001b[0;32m      4\u001b[0m \u001b[38;5;28;01mdef\u001b[39;00m \u001b[38;5;21mmy_bisection\u001b[39m(f, a, b, e): \n",
      "\u001b[1;31mModuleNotFoundError\u001b[0m: No module named 'numpy'"
     ]
    }
   ],
   "source": [
    "#memanggil library \n",
    "import numpy as np \n",
    "#mendefinisikan sebuah fungsi\n",
    "def my_bisection(f, a, b, e): \n",
    "  if np.sign(f(a)) == np.sign(f(b)):\n",
    "    raise Exception('Tidak ada akar pada interval a dan b')\n",
    "  m = (a + b)/2\n",
    "  if np.abs(f(m)) < e:\n",
    "    return m\n",
    "  elif np.sign(f(a)) == np.sign(f(m)):\n",
    "    return my_bisection(f, m, b, e)\n",
    "  elif np.sign(f(b)) == np.sign(f(m)):\n",
    "    return my_bisection(f, a, m, e)"
   ]
  },
  {
   "attachments": {},
   "cell_type": "markdown",
   "metadata": {},
   "source": [
    "Contoh Pencarian Akar dengan Metode Bagi Dua\n",
    "f(x)=x^2 - 2"
   ]
  },
  {
   "cell_type": "code",
   "execution_count": null,
   "metadata": {},
   "outputs": [],
   "source": [
    "#memanggil library\n",
    "import numpy as np\n",
    "f = lambda x: x**2-2\n",
    "\n",
    "#memasukan value kedalam variabel sebuah fungsi\n",
    "r1 = my_bisection(f, 0, 2, 0.1) \n",
    "print(\"r1 =\", r1)\n",
    "print(\"f(r1) =\", f(r1))\n",
    "\n",
    "#memasukan value kedalam variabel sebuah fungsi\n",
    "r01 = my_bisection(f, 0, 2, 0.01) \n",
    "print(\"r01 =\", r01)\n",
    "print(\"f(r01) =\", f(r01))"
   ]
  },
  {
   "attachments": {},
   "cell_type": "markdown",
   "metadata": {},
   "source": [
    "LATIHAN\n",
    "o.1 Buatlah sebuah fungsi penyelesaian yang tepat baik dengan menggunakan metode Bagi Dua maupun Newton Raphson ketika\n",
    "\n",
    "a. f(x) = x^3 - 2x + 1\n",
    "\n",
    "b. f(x) = e^x - x\n",
    "\n",
    "No 2\n",
    "\n",
    "Buatlah modifikasi fungsi ketika kriteria program berhenti adalah sudah mencapai pada iterasi ke-n baik untuk Bagi Dua maupun Newton Raphson"
   ]
  },
  {
   "cell_type": "code",
   "execution_count": null,
   "metadata": {},
   "outputs": [],
   "source": [
    "#Nim : 2007478\n",
    "#Nama: Hanif Firman Alamsyah\n",
    "\n",
    "#Metode Bagi Dua\n",
    "# mendefinisikan fungsi\n",
    "def f(x):\n",
    "    return x**3-2*x+1\n",
    "    #return re**x-x\n",
    "\n",
    "# mendefinisikan fungsi metode bagi dua\n",
    "def bisection(x0,x1,e):\n",
    "    step = 1\n",
    "    # Jika True maka jalankan looping\n",
    "    condition = True\n",
    "    while condition:\n",
    "        #loop iterasi\n",
    "\n",
    "        x2 = (x0 + x1)/2\n",
    "        print('Iterasi-%d, x2 = %0.6f dan f(x2) = %0.6f' % (step, x2, f(x2)))\n",
    "        if f(x0) * f(x2) > 0:\n",
    "            x0 = x2\n",
    "        else:\n",
    "            x1 = x2\n",
    "            \n",
    "        step = step + 1\n",
    "        condition = abs(f(x2)) > e\n",
    "\n",
    "    print('\\nakar yang dibutuhkan : %0.8f' % x2)\n",
    "\n",
    "\n",
    "# Input\n",
    "# convert inputan ke tipe data float\n",
    "x0 = input('Perkiraan 1: ')\n",
    "x0 = float(x0)\n",
    "x1 = input('Perkiraan 2: ')\n",
    "x1 = float(x1)\n",
    "e = input('Perkiraan Error: ')\n",
    "e = float(e)\n",
    "\n",
    "# Contoh\n",
    "# Perkiraan 1 : -2\n",
    "# Perkiraan 2 : -1\n",
    "# Perkiraan Error : 0.00001\n",
    "\n",
    "# Cek value perkiraan dan bagi dua\n",
    "\n",
    "if f(x0) * f(x1) > 0.0:\n",
    "    print('Nilai perkiraan tidak mengurung akar')\n",
    "    print('Coba lagi')\n",
    "else: \n",
    "    bisection(x0,x1,e)\n",
    "\n",
    "\n",
    "\n",
    "#Metode Newton Raphson\n",
    "# Mendefinisikan fungsi\n",
    "def f(x):\n",
    "    return x**3-2*x+1\n",
    "    #return re**x-x\n",
    "# Mendifinisikan fungsi derivatif\n",
    "def g(x):\n",
    "    return 3*x**2-2\n",
    "    #return e**x-1\n",
    "\n",
    "# Mendefinisikan fungsi metode newtonRaphson\n",
    "def newtonRaphson(x0,e,N):\n",
    "    step = 1\n",
    "    flag = 1\n",
    "    condition = True\n",
    "    while condition:\n",
    "        if g(x0) == 0.0:\n",
    "            #jika dibagi 0 maka error\n",
    "            print('dibagi 0 error')\n",
    "            break\n",
    "        #loop iterasi\n",
    "        else :\n",
    "            x1 = x0 - f(x0)/g(x0)\n",
    "            print('Iterasi-%d, x1 = %0.6f dan f(x1) = %0.6f' % (step, x1, f(x1)))\n",
    "            x0 = x1\n",
    "            step = step + 1\n",
    "            \n",
    "            if step > N:\n",
    "                flag = 0\n",
    "                break\n",
    "            \n",
    "            condition = abs(f(x1)) > e\n",
    "    \n",
    "    if flag==1:\n",
    "        print('\\nakar yang dibutuhkan : %0.8f' % x1)\n",
    "    else:\n",
    "        print('\\ntidak konvergen')\n",
    "\n",
    "# convert inputan ke tipe data float\n",
    "x0 = input('Perkiraan: ')\n",
    "x0 = float(x0)\n",
    "e = input('Perkiraan Error: ')\n",
    "e = float(e)\n",
    "# convert inputan ke tipe data int\n",
    "N = input('Jumlah Step: ')\n",
    "N = int(N)\n",
    "\n",
    "newtonRaphson(x0,e,N)"
   ]
  }
 ],
 "metadata": {
  "kernelspec": {
   "display_name": "Python 3.10.7 64-bit",
   "language": "python",
   "name": "python3"
  },
  "language_info": {
   "codemirror_mode": {
    "name": "ipython",
    "version": 3
   },
   "file_extension": ".py",
   "mimetype": "text/x-python",
   "name": "python",
   "nbconvert_exporter": "python",
   "pygments_lexer": "ipython3",
   "version": "3.10.7"
  },
  "orig_nbformat": 4,
  "vscode": {
   "interpreter": {
    "hash": "e593ac106456af50ce7af38f9671c411b49d6cd90f9b885e167f0f594e09038c"
   }
  }
 },
 "nbformat": 4,
 "nbformat_minor": 2
}
