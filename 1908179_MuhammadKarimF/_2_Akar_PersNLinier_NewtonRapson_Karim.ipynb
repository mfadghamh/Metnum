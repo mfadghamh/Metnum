{
 "cells": [
  {
   "cell_type": "code",
   "execution_count": 1,
   "metadata": {},
   "outputs": [
    {
     "ename": "ValueError",
     "evalue": "could not convert string to float: ''",
     "output_type": "error",
     "traceback": [
      "\u001b[1;31m---------------------------------------------------------------------------\u001b[0m",
      "\u001b[1;31mValueError\u001b[0m                                Traceback (most recent call last)",
      "Cell \u001b[1;32mIn[1], line 42\u001b[0m\n\u001b[0;32m     40\u001b[0m \u001b[39m# convert inputan ke tipe data float\u001b[39;00m\n\u001b[0;32m     41\u001b[0m x0 \u001b[39m=\u001b[39m \u001b[39minput\u001b[39m(\u001b[39m'\u001b[39m\u001b[39mPerkiraan: \u001b[39m\u001b[39m'\u001b[39m)\n\u001b[1;32m---> 42\u001b[0m x0 \u001b[39m=\u001b[39m \u001b[39mfloat\u001b[39;49m(x0)\n\u001b[0;32m     43\u001b[0m e \u001b[39m=\u001b[39m \u001b[39minput\u001b[39m(\u001b[39m'\u001b[39m\u001b[39mPerkiraan Error: \u001b[39m\u001b[39m'\u001b[39m)\n\u001b[0;32m     44\u001b[0m e \u001b[39m=\u001b[39m \u001b[39mfloat\u001b[39m(e)\n",
      "\u001b[1;31mValueError\u001b[0m: could not convert string to float: ''"
     ]
    }
   ],
   "source": [
    "#Metode Newton Raphson\n",
    "# Mendefinisikan fungsi\n",
    "def f(x):\n",
    "    #return x**3-2*x+1\n",
    "    #return re**x-x\n",
    "    return x**2-2*x-8\n",
    "# Mendifinisikan fungsi derivatif\n",
    "def g(x):\n",
    "    #return 3*x**2-2\n",
    "    #return e**x-1\n",
    "    return 2*x-2\n",
    "# Mendefinisikan fungsi metode newtonRaphson\n",
    "def newtonRaphson(x0,e,N):\n",
    "    step = 1\n",
    "    flag = 1\n",
    "    condition = True\n",
    "    while condition:\n",
    "        if g(x0) != 0.0:\n",
    "            #loop iterasi\n",
    "            x1 = x0 - f(x0)/g(x0)\n",
    "            print('Iterasi-%d, x1 = %0.6f dan f(x1) = %0.6f' % (step, x1, f(x1)))\n",
    "            x0 = x1\n",
    "            step = step + 1\n",
    "        else :\n",
    "            #jika dibagi 0 maka error\n",
    "            print('dibagi 0 error')\n",
    "            break\n",
    "        if step > N:\n",
    "            flag = 0\n",
    "            break\n",
    "        \n",
    "        condition = abs(f(x1)) > e\n",
    "    \n",
    "    if flag==1:\n",
    "        print('\\nakar yang dibutuhkan : %0.8f' % x1)\n",
    "    else:\n",
    "        print('\\ntidak konvergen')\n",
    "\n",
    "\n",
    "# convert inputan ke tipe data float\n",
    "x0 = input('Perkiraan: ')\n",
    "x0 = float(x0)\n",
    "e = input('Perkiraan Error: ')\n",
    "e = float(e)\n",
    "# convert inputan ke tipe data int\n",
    "N = input('Jumlah Step: ')\n",
    "N = int(N)\n",
    "\n",
    "newtonRaphson(x0,e,N)"
   ]
  }
 ],
 "metadata": {
  "kernelspec": {
   "display_name": "Python 3.8.6 64-bit ('3.8.6')",
   "language": "python",
   "name": "python3"
  },
  "language_info": {
   "codemirror_mode": {
    "name": "ipython",
    "version": 3
   },
   "file_extension": ".py",
   "mimetype": "text/x-python",
   "name": "python",
   "nbconvert_exporter": "python",
   "pygments_lexer": "ipython3",
   "version": "3.8.6"
  },
  "orig_nbformat": 4,
  "vscode": {
   "interpreter": {
    "hash": "a9b02a300604dbf31b99c1f3f895b3948fb8c72a3bbdaa1f61cfe780a1ac0c65"
   }
  }
 },
 "nbformat": 4,
 "nbformat_minor": 2
}
