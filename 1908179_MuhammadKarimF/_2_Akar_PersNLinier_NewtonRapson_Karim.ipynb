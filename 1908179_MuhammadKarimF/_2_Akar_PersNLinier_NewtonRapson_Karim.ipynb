{
 "cells": [
  {
   "cell_type": "code",
   "execution_count": null,
   "metadata": {},
   "outputs": [],
   "source": []
  }
 ],
 "metadata": {
  "kernelspec": {
   "display_name": "Python 3.8.6 64-bit ('3.8.6')",
   "language": "python",
   "name": "python3"
  },
  "language_info": {
   "name": "python",
   "version": "3.8.6"
  },
  "orig_nbformat": 4,
  "vscode": {
   "interpreter": {
    "hash": "a9b02a300604dbf31b99c1f3f895b3948fb8c72a3bbdaa1f61cfe780a1ac0c65"
   }
  }
 },
 "nbformat": 4,
 "nbformat_minor": 2
}
