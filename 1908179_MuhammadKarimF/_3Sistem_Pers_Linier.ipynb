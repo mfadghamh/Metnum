{
  "cells": [
    {
      "cell_type": "markdown",
      "metadata": {
        "id": "HJPpEHQuoM8-"
      },
      "source": [
        "# **SISTEM PERSAMAAN LINIER**"
      ]
    },
    {
      "cell_type": "markdown",
      "metadata": {
        "id": "Pg416R17opum"
      },
      "source": [
        "**Vektor dan Ukurannya**"
      ]
    },
    {
      "cell_type": "code",
      "execution_count": null,
      "metadata": {
        "colab": {
          "base_uri": "https://localhost:8080/"
        },
        "id": "FUohdS25oCyY",
        "outputId": "798375c8-d0cb-4c0e-a6a8-a26e7f3756db"
      },
      "outputs": [
        {
          "name": "stdout",
          "output_type": "stream",
          "text": [
            "(1, 5)\n",
            "(4, 1)\n"
          ]
        }
      ],
      "source": [
        "import numpy as np\n",
        "vector_row = np.array([[1, -5, 3, 2, 4]])\n",
        "vector_column = np.array([[1],[2],[3],[4]])\n",
        "print(vector_row.shape)\n",
        "print(vector_column.shape)"
      ]
    },
    {
      "cell_type": "markdown",
      "metadata": {
        "id": "Vh8Vdip5pDjh"
      },
      "source": [
        "**Transpose dan Norm Vektor**\n",
        "\n",
        "a. Transpose digunakan untuk mengubah vektor baris menjadi vektor kolom dan sebaliknya\n",
        "\n",
        "b. Norm vektor digunakan untuk menghitung panjang vektor\n"
      ]
    },
    {
      "cell_type": "code",
      "execution_count": null,
      "metadata": {
        "colab": {
          "base_uri": "https://localhost:8080/"
        },
        "id": "wv0Ly6BgpeEY",
        "outputId": "e85dc6a3-3559-499e-ffd0-7e606d4b50ea"
      },
      "outputs": [
        {
          "name": "stdout",
          "output_type": "stream",
          "text": [
            "[[ 1]\n",
            " [-5]\n",
            " [ 3]\n",
            " [ 2]\n",
            " [ 4]]\n",
            "L_1 is: 15.0\n",
            "L_2 is: 7.4\n",
            "L_inf is: 5.0\n"
          ]
        }
      ],
      "source": [
        "from numpy.linalg import norm\n",
        "new_vector = vector_row.T\n",
        "print(new_vector)\n",
        "norm_1 = norm(new_vector, 1)\n",
        "norm_2 = norm(new_vector, 2)\n",
        "norm_inf = norm(new_vector, np.inf)\n",
        "print(\"L_1 is: %.1f\"%norm_1)\n",
        "print(\"L_2 is: %.1f\"%norm_2)\n",
        "print(\"L_inf is: %.1f\"%norm_inf)"
      ]
    },
    {
      "cell_type": "markdown",
      "metadata": {
        "id": "4U9LPpsTrArF"
      },
      "source": [
        "**Dot Produk dan Cross Produk**\n"
      ]
    },
    {
      "cell_type": "code",
      "execution_count": null,
      "metadata": {
        "colab": {
          "base_uri": "https://localhost:8080/"
        },
        "id": "qygyn0DDrSMU",
        "outputId": "f576cbcc-3ce2-4f90-9303-6d0bed0291bd"
      },
      "outputs": [
        {
          "name": "stdout",
          "output_type": "stream",
          "text": [
            "[[0.97992471]]\n",
            "[[ 0  0 -6]]\n"
          ]
        }
      ],
      "source": [
        "v = np.array([[10, 9, 3]])\n",
        "w = np.array([[2, 5, 12]])\n",
        "theta = np.arccos(np.dot(v, w.T)/(norm(v)*norm(w)))\n",
        "print(theta)\n",
        "v = np.array([[0, 2, 0]])\n",
        "w = np.array([[3, 0, 0]])\n",
        "print(np.cross(v, w))\n"
      ]
    },
    {
      "cell_type": "markdown",
      "metadata": {
        "id": "-Rs0yoVIoLOU"
      },
      "source": [
        "**Kombinasi Linier**"
      ]
    },
    {
      "cell_type": "code",
      "execution_count": null,
      "metadata": {
        "colab": {
          "base_uri": "https://localhost:8080/"
        },
        "id": "qaXjVZAFstmo",
        "outputId": "7c2da778-0e79-46de-b231-83b6221cc60b"
      },
      "outputs": [
        {
          "name": "stdout",
          "output_type": "stream",
          "text": [
            "[[-8 -1  4]]\n"
          ]
        }
      ],
      "source": [
        "v = np.array([[0, 3, 2]])\n",
        "w = np.array([[4, 1, 1]])\n",
        "u = np.array([[0, -2, 0]])\n",
        "x =3*v-2*w+4*u\n",
        "print(x)\n"
      ]
    },
    {
      "cell_type": "markdown",
      "metadata": {
        "id": "pv5C9dvCsr0t"
      },
      "source": [
        "**Matriks**"
      ]
    },
    {
      "cell_type": "code",
      "execution_count": null,
      "metadata": {
        "colab": {
          "base_uri": "https://localhost:8080/",
          "height": 426
        },
        "id": "KSW_KFjEtAHU",
        "outputId": "49762d25-d40e-47c6-eee7-488fa18d0fca"
      },
      "outputs": [
        {
          "name": "stdout",
          "output_type": "stream",
          "text": [
            "Matriks P\n",
            "[[1 7]\n",
            " [2 3]\n",
            " [5 0]]\n",
            "Matriks Q\n",
            "[[2 6 3 1]\n",
            " [1 2 3 4]]\n",
            "Matriks PxQ\n",
            "[[ 9 20 24 29]\n",
            " [ 7 18 15 14]\n",
            " [10 30 15  5]]\n"
          ]
        },
        {
          "ename": "ValueError",
          "evalue": "ignored",
          "output_type": "error",
          "traceback": [
            "\u001b[0;31m---------------------------------------------------------------------------\u001b[0m",
            "\u001b[0;31mValueError\u001b[0m                                Traceback (most recent call last)",
            "\u001b[0;32m<ipython-input-9-0c3604e5ae1e>\u001b[0m in \u001b[0;36m<module>\u001b[0;34m\u001b[0m\n\u001b[1;32m      7\u001b[0m \u001b[0mprint\u001b[0m\u001b[0;34m(\u001b[0m\u001b[0;34m\"Matriks PxQ\"\u001b[0m\u001b[0;34m)\u001b[0m\u001b[0;34m\u001b[0m\u001b[0;34m\u001b[0m\u001b[0m\n\u001b[1;32m      8\u001b[0m \u001b[0mprint\u001b[0m\u001b[0;34m(\u001b[0m\u001b[0mnp\u001b[0m\u001b[0;34m.\u001b[0m\u001b[0mdot\u001b[0m\u001b[0;34m(\u001b[0m\u001b[0mP\u001b[0m\u001b[0;34m,\u001b[0m \u001b[0mQ\u001b[0m\u001b[0;34m)\u001b[0m\u001b[0;34m)\u001b[0m\u001b[0;34m\u001b[0m\u001b[0;34m\u001b[0m\u001b[0m\n\u001b[0;32m----> 9\u001b[0;31m \u001b[0mnp\u001b[0m\u001b[0;34m.\u001b[0m\u001b[0mdot\u001b[0m\u001b[0;34m(\u001b[0m\u001b[0mQ\u001b[0m\u001b[0;34m,\u001b[0m \u001b[0mP\u001b[0m\u001b[0;34m)\u001b[0m\u001b[0;34m\u001b[0m\u001b[0;34m\u001b[0m\u001b[0m\n\u001b[0m",
            "\u001b[0;32m<__array_function__ internals>\u001b[0m in \u001b[0;36mdot\u001b[0;34m(*args, **kwargs)\u001b[0m\n",
            "\u001b[0;31mValueError\u001b[0m: shapes (2,4) and (3,2) not aligned: 4 (dim 1) != 3 (dim 0)"
          ]
        }
      ],
      "source": [
        "P = np.array([[1, 7], [2, 3], [5, 0]])\n",
        "Q = np.array([[2, 6, 3, 1], [1, 2, 3, 4]])\n",
        "print(\"Matriks P\")\n",
        "print(P)\n",
        "print(\"Matriks Q\")\n",
        "print(Q)\n",
        "print(\"Matriks PxQ\")\n",
        "print(np.dot(P, Q))\n",
        "np.dot(Q, P)"
      ]
    },
    {
      "cell_type": "markdown",
      "metadata": {
        "id": "IlhSvp6_t1_s"
      },
      "source": [
        "**Matriks Identitas, Determinan, dan Invers**"
      ]
    },
    {
      "cell_type": "code",
      "execution_count": null,
      "metadata": {
        "colab": {
          "base_uri": "https://localhost:8080/"
        },
        "id": "j-OgnbhNuDup",
        "outputId": "8c38e160-6bb0-40a6-c4a6-28dfa3c17112"
      },
      "outputs": [
        {
          "name": "stdout",
          "output_type": "stream",
          "text": [
            "M:\n",
            " [[0 2 1 3]\n",
            " [3 2 8 1]\n",
            " [1 0 0 3]\n",
            " [0 3 2 1]]\n",
            "Determinant: -38.0\n",
            "I:\n",
            " [[1. 0. 0. 0.]\n",
            " [0. 1. 0. 0.]\n",
            " [0. 0. 1. 0.]\n",
            " [0. 0. 0. 1.]]\n",
            "M*I:\n",
            " [[0. 2. 1. 3.]\n",
            " [3. 2. 8. 1.]\n",
            " [1. 0. 0. 3.]\n",
            " [0. 3. 2. 1.]]\n",
            "Inv M:\n",
            " [[-1.57894737 -0.07894737  1.23684211  1.10526316]\n",
            " [-0.63157895 -0.13157895  0.39473684  0.84210526]\n",
            " [ 0.68421053  0.18421053 -0.55263158 -0.57894737]\n",
            " [ 0.52631579  0.02631579 -0.07894737 -0.36842105]]\n",
            "det(p): 0.0\n"
          ]
        }
      ],
      "source": [
        "from numpy.linalg import det\n",
        "M = np.array([[0,2,1,3],\n",
        "[3,2,8,1],\n",
        "[1,0,0,3],\n",
        "[0,3,2,1]])\n",
        "print(\"M:\\n\",M)\n",
        "print(\"Determinant: %.1f\"%det(M))\n",
        "I = np.eye(4)\n",
        "print(\"I:\\n\",I)\n",
        "print(\"M*I:\\n\",np.dot(M, I))\n",
        "from numpy.linalg import inv\n",
        "print(\"Inv M:\\n\", inv(M))\n",
        "P = np.array([[0,1,0],\n",
        "  [0,0,0],\n",
        "  [1,0,1]])\n",
        "print(\"det(p):\", det(P))"
      ]
    },
    {
      "cell_type": "markdown",
      "metadata": {
        "id": "iTSeMCC7u5lE"
      },
      "source": [
        "**Perkalian Matriks LU**"
      ]
    },
    {
      "cell_type": "code",
      "execution_count": null,
      "metadata": {
        "colab": {
          "base_uri": "https://localhost:8080/"
        },
        "id": "R8390IJkvQs0",
        "outputId": "82f6d74c-5715-4980-8fd1-2274c2388688"
      },
      "outputs": [
        {
          "name": "stdout",
          "output_type": "stream",
          "text": [
            "LU= [[ 4.  3. -5.]\n",
            " [-2. -4.  5.]\n",
            " [ 8.  8.  0.]]\n"
          ]
        }
      ],
      "source": [
        "import numpy as np\n",
        "u = np.array([[4, 3, -5],\n",
        " [0, -2.5, 2.5],\n",
        " [0, 0, 12]])\n",
        "l = np.array([[1, 0, 0],\n",
        " [-0.5, 1, 0],\n",
        " [2, -0.8, 1]])\n",
        "print(\"LU=\",np.dot(l, u))"
      ]
    },
    {
      "cell_type": "markdown",
      "source": [
        "**SPL Matriks Segitiga Atas**"
      ],
      "metadata": {
        "id": "FgHFc0zvAjsh"
      }
    },
    {
      "cell_type": "code",
      "source": [
        "import numpy as np\n",
        "A = [[-2, 7, -4], [0, 6, 5], [0, 0, 3]]\n",
        "b = [[14],[5],[-8]]\n",
        "print(A[1][2])\n"
      ],
      "metadata": {
        "colab": {
          "base_uri": "https://localhost:8080/"
        },
        "id": "rUeHHOCtApAi",
        "outputId": "5d461f35-c0e2-476a-8172-01b3f1619407"
      },
      "execution_count": null,
      "outputs": [
        {
          "output_type": "stream",
          "name": "stdout",
          "text": [
            "5\n"
          ]
        }
      ]
    },
    {
      "cell_type": "markdown",
      "source": [
        "**Metode Gauss**"
      ],
      "metadata": {
        "id": "z9bk90ls9zoB"
      }
    },
    {
      "cell_type": "code",
      "source": [
        "import numpy as np\n",
        "import sys\n",
        " \n",
        "n = int(input('Input jumlah variabel: '))\n",
        "a = np.zeros((n,n+1))\n",
        "x = np.zeros(n)\n",
        "print('Input koefisien dan nilai kanan pada SPL:')\n",
        "for i in range(n):\n",
        "    for j in range(n+1):\n",
        "        a[i][j] = float(input( 'a['+str(i)+']['+ str(j)+']='))\n",
        "for i in range(n):\n",
        "    if a[i][i] == 0.0:\n",
        "        sys.exit('Terdapat nilai 0 pada diagonal utama')\n",
        "         \n",
        "    for j in range(i+1, n):\n",
        "        ratio = a[j][i]/a[i][i]\n",
        "         \n",
        "        for k in range(n+1):\n",
        "            a[j][k] = a[j][k] - ratio * a[i][k]\n",
        " \n",
        "x[n-1] = a[n-1][n]/a[n-1][n-1]\n",
        " \n",
        "for i in range(n-2,-1,-1):\n",
        "    x[i] = a[i][n]\n",
        "     \n",
        "    for j in range(i+1,n):\n",
        "        x[i] = x[i] - a[i][j]*x[j]\n",
        "     \n",
        "    x[i] = x[i]/a[i][i]\n",
        " \n",
        "print('\\nSolusi SPL adalah: ')\n",
        "for i in range(n):\n",
        "    print('X%d = %0.2f' %(i,x[i]), end = '\\t')\n"
      ],
      "metadata": {
        "id": "vN9NuntI-a1y",
        "colab": {
          "base_uri": "https://localhost:8080/"
        },
        "outputId": "1d578829-21f2-4857-8f55-d7aba970e682"
      },
      "execution_count": 2,
      "outputs": [
        {
          "output_type": "stream",
          "name": "stdout",
          "text": [
            "Enter number of unknowns: 2\n",
            "Enter Augmented Matrix Coefficients:\n",
            "a[0][0]=1\n",
            "a[0][1]=2\n",
            "a[0][2]=2\n",
            "a[1][0]=2\n",
            "a[1][1]=3\n",
            "a[1][2]=5\n",
            "\n",
            "The solution is: \n",
            "X0 = 4.00\tX1 = -1.00\t"
          ]
        }
      ]
    },
    {
      "cell_type": "markdown",
      "source": [
        "**Metode Gauss Jordan**"
      ],
      "metadata": {
        "id": "LT1KMP2294R_"
      }
    },
    {
      "cell_type": "code",
      "source": [
        "import numpy as np\n",
        "import sys\n",
        "\n",
        "n = int(input('Input jumlah variabel: '))\n",
        "a = np.zeros((n,n+1))\n",
        "x = np.zeros(n)\n",
        "print('Input koefisien dan nilai kanan pada SPL:')\n",
        "for i in range(n):\n",
        "    for j in range(n+1):\n",
        "        a[i][j] = float(input( 'a['+str(i)+']['+ str(j)+']='))\n",
        "\n",
        "for i in range(n):\n",
        "    if a[i][i] == 0.0:\n",
        "        sys.exit('Terdapat nilai 0 pada diagonal utama')\n",
        "        \n",
        "    for j in range(n):\n",
        "        if i != j:\n",
        "            ratio = a[j][i]/a[i][i]\n",
        "\n",
        "            for k in range(n+1):\n",
        "                a[j][k] = a[j][k] - ratio * a[i][k]\n",
        "\n",
        "for i in range(n):\n",
        "    x[i] = a[i][n]/a[i][i]\n",
        "\n",
        "print('\\nSolusi SPL adalah: ')\n",
        "for i in range(n):\n",
        "    print('X%d = %0.2f' %(i,x[i]), end = '\\t')"
      ],
      "metadata": {
        "colab": {
          "base_uri": "https://localhost:8080/"
        },
        "id": "frcsE6so_-3Q",
        "outputId": "dfcccedb-b35e-4245-e343-5f755660fa59"
      },
      "execution_count": 3,
      "outputs": [
        {
          "output_type": "stream",
          "name": "stdout",
          "text": [
            "Input jumlah variabel: 2\n",
            "Input koefisien dan nilai kanan pada SPL:\n",
            "a[0][0]=1\n",
            "a[0][1]=2\n",
            "a[0][2]=2\n",
            "a[1][0]=2\n",
            "a[1][1]=3\n",
            "a[1][2]=5\n",
            "\n",
            "Solusi SPL adalah: \n",
            "X0 = 4.00\tX1 = -1.00\t"
          ]
        }
      ]
    },
    {
      "cell_type": "markdown",
      "source": [
        "**Metode Invers**"
      ],
      "metadata": {
        "id": "7CaRtEe299CD"
      }
    },
    {
      "cell_type": "code",
      "source": [
        "# Importing NumPy Library\n",
        "import numpy as np\n",
        "import sys\n",
        "\n",
        "# Reading order of matrix\n",
        "n = int(input('Enter order of matrix: '))\n",
        "\n",
        "# Making numpy array of n x 2n size and initializing \n",
        "# to zero for storing augmented matrix\n",
        "a = np.zeros((n,2*n))\n",
        "\n",
        "# Reading matrix coefficients\n",
        "print('Enter Matrix Coefficients:')\n",
        "for i in range(n):\n",
        "    for j in range(n):\n",
        "        a[i][j] = float(input( 'a['+str(i)+']['+ str(j)+']='))\n",
        "\n",
        "# Augmenting Identity Matrix of Order n\n",
        "for i in range(n):        \n",
        "    for j in range(n):\n",
        "        if i == j:\n",
        "            a[i][j+n] = 1\n",
        "\n",
        "# Applying Guass Jordan Elimination\n",
        "for i in range(n):\n",
        "    if a[i][i] == 0.0:\n",
        "        sys.exit('Divide by zero detected!')\n",
        "        \n",
        "    for j in range(n):\n",
        "        if i != j:\n",
        "            ratio = a[j][i]/a[i][i]\n",
        "\n",
        "            for k in range(2*n):\n",
        "                a[j][k] = a[j][k] - ratio * a[i][k]\n",
        "\n",
        "# Row operation to make principal diagonal element to 1\n",
        "for i in range(n):\n",
        "    divisor = a[i][i]\n",
        "    for j in range(2*n):\n",
        "        a[i][j] = a[i][j]/divisor\n",
        "\n",
        "# Displaying Inverse Matrix\n",
        "print('\\nINVERSE MATRIX IS:')\n",
        "for i in range(n):\n",
        "    for j in range(n, 2*n):\n",
        "        print(a[i][j], end='\\t')\n",
        "    print()"
      ],
      "metadata": {
        "colab": {
          "base_uri": "https://localhost:8080/",
          "height": 273
        },
        "id": "_IvK4uqQHMHA",
        "outputId": "5b7405de-a979-4ad8-9718-399fc31bcb8e"
      },
      "execution_count": 28,
      "outputs": [
        {
          "name": "stdout",
          "output_type": "stream",
          "text": [
            "Enter order of matrix: 2\n",
            "Enter Matrix Coefficients:\n",
            "a[0][0]=1\n",
            "a[0][1]=0\n",
            "a[1][0]=1\n",
            "a[1][1]=0\n"
          ]
        },
        {
          "output_type": "error",
          "ename": "SystemExit",
          "evalue": "ignored",
          "traceback": [
            "An exception has occurred, use %tb to see the full traceback.\n",
            "\u001b[0;31mSystemExit\u001b[0m\u001b[0;31m:\u001b[0m Divide by zero detected!\n"
          ]
        },
        {
          "output_type": "stream",
          "name": "stderr",
          "text": [
            "/usr/local/lib/python3.7/dist-packages/IPython/core/interactiveshell.py:3334: UserWarning: To exit: use 'exit', 'quit', or Ctrl-D.\n",
            "  warn(\"To exit: use 'exit', 'quit', or Ctrl-D.\", stacklevel=1)\n"
          ]
        }
      ]
    },
    {
      "cell_type": "markdown",
      "source": [
        "**Dekomposisi LU**"
      ],
      "metadata": {
        "id": "QX_X0cFu-Eu6"
      }
    },
    {
      "cell_type": "code",
      "source": [
        "import numpy as np\n",
        "import scipy.linalg\n",
        "A = np.array([[1, 2, 3],\n",
        "             [4, 5, 6],\n",
        "             [10, 11, 9]])\n",
        "P, L, U = scipy.linalg.lu(A)\n",
        "print(P)\n",
        "print(L)\n",
        "print(U)\n",
        "mult = P.dot((L.dot(U)))\n",
        "print(mult)"
      ],
      "metadata": {
        "colab": {
          "base_uri": "https://localhost:8080/"
        },
        "id": "_YbxA1AbBpbZ",
        "outputId": "e5add010-9ccb-43f7-bd06-bb066c83b19b"
      },
      "execution_count": 12,
      "outputs": [
        {
          "output_type": "stream",
          "name": "stdout",
          "text": [
            "[[0. 1. 0.]\n",
            " [0. 0. 1.]\n",
            " [1. 0. 0.]]\n",
            "[[1.         0.         0.        ]\n",
            " [0.1        1.         0.        ]\n",
            " [0.4        0.66666667 1.        ]]\n",
            "[[10.  11.   9. ]\n",
            " [ 0.   0.9  2.1]\n",
            " [ 0.   0.   1. ]]\n",
            "[[ 1.  2.  3.]\n",
            " [ 4.  5.  6.]\n",
            " [10. 11.  9.]]\n"
          ]
        }
      ]
    },
    {
      "cell_type": "code",
      "source": [
        "import pprint\n",
        "\n",
        "def mult_matrix(M, N):\n",
        "    \"\"\"Multiply square matrices of same dimension M and N\"\"\"\n",
        "\n",
        "    # Converts N into a list of tuples of columns                                                                                                                                                                                                      \n",
        "    tuple_N = zip(*N)\n",
        "\n",
        "    # Nested list comprehension to calculate matrix multiplication                                                                                                                                                                                     \n",
        "    return [[sum(el_m * el_n for el_m, el_n in zip(row_m, col_n)) for col_n in tuple_N] for row_m in M]\n",
        "\n",
        "def pivot_matrix(M):\n",
        "    \"\"\"Returns the pivoting matrix for M, used in Doolittle's method.\"\"\"\n",
        "    m = len(M)\n",
        "\n",
        "    # Create an identity matrix, with floating point values                                                                                                                                                                                            \n",
        "    id_mat = [[float(i ==j) for i in range(m)] for j in range(m)]\n",
        "\n",
        "    # Rearrange the identity matrix such that the largest element of                                                                                                                                                                                   \n",
        "    # each column of M is placed on the diagonal of of M                                                                                                                                                                                               \n",
        "    for j in range(m):\n",
        "        row = max(range(j, m), key=lambda i: abs(M[i][j]))\n",
        "        if j != row:\n",
        "            # Swap the rows                                                                                                                                                                                                                            \n",
        "            id_mat[j], id_mat[row] = id_mat[row], id_mat[j]\n",
        "\n",
        "    return id_mat\n",
        "\n",
        "def lu_decomposition(A):\n",
        "    \"\"\"Performs an LU Decomposition of A (which must be square)                                                                                                                                                                                        \n",
        "    into PA = LU. The function returns P, L and U.\"\"\"\n",
        "    n = len(A)\n",
        "\n",
        "    # Create zero matrices for L and U                                                                                                                                                                                                                 \n",
        "    L = [[0.0] * n for i in range(n)]\n",
        "    U = [[0.0] * n for i in range(n)]\n",
        "\n",
        "    # Create the pivot matrix P and the multipled matrix PA                                                                                                                                                                                            \n",
        "    P = pivot_matrix(A)\n",
        "    PA = mult_matrix(P, A)\n",
        "\n",
        "    # Perform the LU Decomposition                                                                                                                                                                                                                     \n",
        "    for j in range(n):\n",
        "        # All diagonal entries of L are set to unity                                                                                                                                                                                                   \n",
        "        L[j][j] = 1.0\n",
        "\n",
        "        # LaTeX: u_{ij} = a_{ij} - \\sum_{k=1}^{i-1} u_{kj} l_{ik}                                                                                                                                                                                      \n",
        "        for i in range(j+1):\n",
        "            s1 = sum(U[k][j] * L[i][k] for k in range(i))\n",
        "            U[i][j] = PA[i][j] - s1\n",
        "\n",
        "        # LaTeX: l_{ij} = \\frac{1}{u_{jj}} (a_{ij} - \\sum_{k=1}^{j-1} u_{kj} l_{ik} )                                                                                                                                                                  \n",
        "        for i in range(j,n):\n",
        "            s2 = sum(U[k][j] * L[i][k] for k in range(j))\n",
        "            L[i][j] = (PA[i][j] - s2) / U[j][j]\n",
        "\n",
        "    return (P, L, U)\n",
        "\n",
        "\n",
        "A = [[7, 3, -1, 2], [3, 8, 1, -4], [-1, 1, 4, -1], [2, -4, -1, 6]]\n",
        "P, L, U = lu_decomposition(A)\n",
        "\n",
        "print(\"A:\")\n",
        "pprint.pprint(A)\n",
        "\n",
        "print(\"P:\")\n",
        "pprint.pprint(P)\n",
        "\n",
        "print(\"L:\")\n",
        "pprint.pprint(L)\n",
        "\n",
        "print(\"U:\")\n",
        "pprint.pprint(U)"
      ],
      "metadata": {
        "id": "TD7Sox_Wkrnt"
      },
      "execution_count": null,
      "outputs": []
    },
    {
      "cell_type": "markdown",
      "source": [
        "**Iterasi Jacobi**"
      ],
      "metadata": {
        "id": "udvSdExH-L6N"
      }
    },
    {
      "cell_type": "code",
      "source": [
        "from pprint import pprint\n",
        "from numpy import array, zeros, diag, diagflat, dot\n",
        "\n",
        "def jacobi(A,b,N=25,x=None):\n",
        "    \"\"\"Solves the equation Ax=b via the Jacobi iterative method.\"\"\"\n",
        "    # Create an initial guess if needed                                                                                                                                                            \n",
        "    if x is None:\n",
        "        x = zeros(len(A[0]))\n",
        "\n",
        "    # Create a vector of the diagonal elements of A                                                                                                                                                \n",
        "    # and subtract them from A                                                                                                                                                                     \n",
        "    D = diag(A)\n",
        "    R = A - diagflat(D)\n",
        "\n",
        "    # Iterate for N times                                                                                                                                                                          \n",
        "    for i in range(N):\n",
        "        x = (b - dot(R,x)) / D\n",
        "    return x\n",
        "\n",
        "A = array([[2.0,1.0],[5.0,7.0]])\n",
        "b = array([11.0,13.0])\n",
        "guess = array([1.0,1.0])\n",
        "\n",
        "sol = jacobi(A,b,N=25,x=guess)\n",
        "\n",
        "print (\"A:\")\n",
        "pprint(A)\n",
        "\n",
        "print (\"b:\")\n",
        "pprint(b)\n",
        "\n",
        "print (\"x:\")\n",
        "pprint(sol)"
      ],
      "metadata": {
        "colab": {
          "base_uri": "https://localhost:8080/"
        },
        "id": "cTaBUkMWGo6a",
        "outputId": "1f1579e6-53c9-4efb-934f-748c95a8cfd2"
      },
      "execution_count": 27,
      "outputs": [
        {
          "output_type": "stream",
          "name": "stdout",
          "text": [
            "A:\n",
            "array([[2., 1.],\n",
            "       [5., 7.]])\n",
            "b:\n",
            "array([11., 13.])\n",
            "x:\n",
            "array([ 7.11110202, -3.22220342])\n"
          ]
        }
      ]
    },
    {
      "cell_type": "markdown",
      "metadata": {
        "id": "qgfVPJs1vr61"
      },
      "source": [
        "**Metode Gauss Siedel**"
      ]
    },
    {
      "cell_type": "code",
      "execution_count": null,
      "metadata": {
        "colab": {
          "base_uri": "https://localhost:8080/"
        },
        "id": "srQTuYUrwNIy",
        "outputId": "3f182ea1-e97b-484f-f5a9-65729d2f0ee0"
      },
      "outputs": [
        {
          "output_type": "stream",
          "name": "stdout",
          "text": [
            "matrix is diagonally dominant\n",
            "Iteration results\n",
            " k, x1, x2, x3 \n",
            "1, 1.7500, -1.0625, -0.7937\n",
            "2, 1.8508, -1.5838, -0.5633\n",
            "3, 2.1327, -1.5103, -0.6847\n",
            "4, 2.0596, -1.5678, -0.6340\n",
            "5, 2.1002, -1.5463, -0.6569\n",
            "6, 2.0835, -1.5565, -0.6468\n",
            "7, 2.0911, -1.5520, -0.6513\n",
            "8, 2.0878, -1.5540, -0.6493\n",
            "9, 2.0893, -1.5531, -0.6502\n",
            "10, 2.0886, -1.5535, -0.6498\n",
            "11, 2.0889, -1.5534, -0.6500\n",
            "12, 2.0888, -1.5534, -0.6499\n",
            "13, 2.0888, -1.5534, -0.6499\n",
            "14, 2.0888, -1.5534, -0.6499\n",
            "15, 2.0888, -1.5534, -0.6499\n",
            "16, 2.0888, -1.5534, -0.6499\n",
            "17, 2.0888, -1.5534, -0.6499\n",
            "18, 2.0888, -1.5534, -0.6499\n",
            "19, 2.0888, -1.5534, -0.6499\n",
            "20, 2.0888, -1.5534, -0.6499\n",
            "21, 2.0888, -1.5534, -0.6499\n",
            "22, 2.0888, -1.5534, -0.6499\n",
            "23, 2.0888, -1.5534, -0.6499\n",
            "24, 2.0888, -1.5534, -0.6499\n",
            "25, 2.0888, -1.5534, -0.6499\n",
            "26, 2.0888, -1.5534, -0.6499\n",
            "27, 2.0888, -1.5534, -0.6499\n",
            "28, 2.0888, -1.5534, -0.6499\n",
            "29, 2.0888, -1.5534, -0.6499\n",
            "30, 2.0888, -1.5534, -0.6499\n",
            "31, 2.0888, -1.5534, -0.6499\n",
            "32, 2.0888, -1.5534, -0.6499\n",
            "33, 2.0888, -1.5534, -0.6499\n",
            "34, 2.0888, -1.5534, -0.6499\n",
            "35, 2.0888, -1.5534, -0.6499\n",
            "36, 2.0888, -1.5534, -0.6499\n",
            "37, 2.0888, -1.5534, -0.6499\n",
            "38, 2.0888, -1.5534, -0.6499\n",
            "39, 2.0888, -1.5534, -0.6499\n",
            "40, 2.0888, -1.5534, -0.6499\n",
            "41, 2.0888, -1.5534, -0.6499\n",
            "42, 2.0888, -1.5534, -0.6499\n",
            "43, 2.0888, -1.5534, -0.6499\n",
            "44, 2.0888, -1.5534, -0.6499\n",
            "45, 2.0888, -1.5534, -0.6499\n",
            "46, 2.0888, -1.5534, -0.6499\n",
            "47, 2.0888, -1.5534, -0.6499\n",
            "48, 2.0888, -1.5534, -0.6499\n",
            "49, 2.0888, -1.5534, -0.6499\n",
            "Not converged, increase the number of iterations\n"
          ]
        }
      ],
      "source": [
        "import numpy as np\n",
        "a = [[8, 3, -3], [-2, -8, 5], [3, 5, 10]]\n",
        "# Find diagonal coefficients\n",
        "diag = np.diag(np.abs(a))\n",
        "# Find row sum without diagonal\n",
        "off_diag = np.sum(np.abs(a), axis=1) - diag\n",
        "if np.all(diag > off_diag):\n",
        "  print(\"matrix is diagonally dominant\")\n",
        "else:\n",
        "  print(\"NOT diagonally dominant\")\n",
        "\n",
        "x1 =0\n",
        "x2 =0\n",
        "x3 =0\n",
        "epsilon = 0.01\n",
        "converged = False\n",
        "x_old = np.array([x1, x2, x3])\n",
        "print(\"Iteration results\")\n",
        "print(\" k, x1, x2, x3 \")\n",
        "for k in range(1, 50):\n",
        "  x1 = (14-3*x2+3*x3)/8 \n",
        "  x2 = (5+2*x1-5*x3)/(-8)\n",
        "  x3 = (-8-3*x1-5*x2)/(10)\n",
        "  x = np.array([x1, x2, x3])\n",
        "  # check if it is smaller than threshold\n",
        "  dx = np.sqrt(np.dot(x-x_old, x-x_old))\n",
        "  \n",
        "  print(\"%d, %.4f, %.4f, %.4f\"%(k, x1, x2, x3))\n",
        "  if dx< epsilon:\n",
        "    converged = True\n",
        "    print(\"Converged!\")\n",
        "    break\n",
        "  \n",
        "  # assign the latest x value to the old value\n",
        "    x_old = x\n",
        "\n",
        "if not converged:\n",
        "  print(\"Not converged, increase the number of iterations\")"
      ]
    },
    {
      "cell_type": "code",
      "source": [
        "# Gauss Seidel Iteration\n",
        "\n",
        "# Defining equations to be solved\n",
        "# in diagonally dominant form\n",
        "f1 = lambda x,y,z: (17-y+2*z)/20\n",
        "f2 = lambda x,y,z: (-18-3*x+z)/20\n",
        "f3 = lambda x,y,z: (25-2*x+3*y)/20\n",
        "\n",
        "# Initial setup\n",
        "x0 = 0\n",
        "y0 = 0\n",
        "z0 = 0\n",
        "count = 1\n",
        "\n",
        "# Reading tolerable error\n",
        "e = float(input('Enter tolerable error: '))\n",
        "\n",
        "# Implementation of Gauss Seidel Iteration\n",
        "print('\\nCount\\tx\\ty\\tz\\n')\n",
        "\n",
        "condition = True\n",
        "\n",
        "while condition:\n",
        "    x1 = f1(x0,y0,z0)\n",
        "    y1 = f2(x1,y0,z0)\n",
        "    z1 = f3(x1,y1,z0)\n",
        "    print('%d\\t%0.4f\\t%0.4f\\t%0.4f\\n' %(count, x1,y1,z1))\n",
        "    e1 = abs(x0-x1);\n",
        "    e2 = abs(y0-y1);\n",
        "    e3 = abs(z0-z1);\n",
        "    \n",
        "    count += 1\n",
        "    x0 = x1\n",
        "    y0 = y1\n",
        "    z0 = z1\n",
        "    \n",
        "    condition = e1>e and e2>e and e3>e\n",
        "\n",
        "print('\\nSolution: x=%0.3f, y=%0.3f and z = %0.3f\\n'% (x1,y1,z1))"
      ],
      "metadata": {
        "colab": {
          "base_uri": "https://localhost:8080/"
        },
        "id": "Lth62P9RHqI1",
        "outputId": "80c43d53-2e65-4f52-cda7-199cd0ddd8f6"
      },
      "execution_count": 29,
      "outputs": [
        {
          "output_type": "stream",
          "name": "stdout",
          "text": [
            "Enter tolerable error: 0.1\n",
            "\n",
            "Count\tx\ty\tz\n",
            "\n",
            "1\t0.8500\t-1.0275\t1.0109\n",
            "\n",
            "2\t1.0025\t-0.9998\t0.9998\n",
            "\n",
            "\n",
            "Solution: x=1.002, y=-1.000 and z = 1.000\n",
            "\n"
          ]
        }
      ]
    }
  ],
  "metadata": {
    "colab": {
      "provenance": [],
      "toc_visible": true
    },
    "kernelspec": {
      "display_name": "Python 3",
      "name": "python3"
    },
    "language_info": {
      "name": "python"
    }
  },
  "nbformat": 4,
  "nbformat_minor": 0
}