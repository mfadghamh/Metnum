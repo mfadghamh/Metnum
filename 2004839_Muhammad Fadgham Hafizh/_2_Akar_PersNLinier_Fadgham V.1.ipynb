{
  "cells": [
    {
      "cell_type": "markdown",
      "metadata": {
        "id": "Tlb0XvJxS_oW"
      },
      "source": [
        "## **Akar Persamaan Non-Linier**\n",
        "Berikut ini merupakan fungsi dasar dari metode yang dapat digunakan untuk mencari akar Persamaan non-Linier"
      ]
    },
    {
      "cell_type": "markdown",
      "metadata": {
        "id": "8zXDT3F6UTm8"
      },
      "source": [
        "**Pencarian Akar dengan Library**\n",
        "\n",
        "Contoh Fungsi: f(x) = cos(x)-x"
      ]
    },
    {
      "cell_type": "code",
      "execution_count": 5,
      "metadata": {
        "colab": {
          "base_uri": "https://localhost:8080/"
        },
        "id": "gMnlEqjjUnAa",
        "outputId": "dba31922-a0e9-40d4-b136-dad342f9b7fa"
      },
      "outputs": [
        {
          "name": "stdout",
          "output_type": "stream",
          "text": [
            "r = [0.73908513]\n",
            "result= [0.]\n"
          ]
        }
      ],
      "source": [
        "import numpy as np #panggil library numpy\n",
        "from scipy import optimize #panggil library scipy\n",
        "f = lambda x: np.cos(x) - x\n",
        "r = optimize.fsolve(f, -2)\n",
        "print(\"r =\",r)\n",
        "# verifikasi solusinya adalah root\n",
        "result = f(r)\n",
        "print(\"result=\", result)"
      ]
    },
    {
      "cell_type": "markdown",
      "metadata": {
        "id": "ySxrsdzGTn0Z"
      },
      "source": [
        "**Metode Bagi Dua**"
      ]
    },
    {
      "cell_type": "code",
      "execution_count": 13,
      "metadata": {
        "id": "j7lAxfNeS9M0"
      },
      "outputs": [],
      "source": [
        "import numpy as np #panggil library numpy\n",
        "def my_bisection(f, a, b, e): #mendefinisikan fungsi\n",
        "  if np.sign(f(a)) == np.sign(f(b)):\n",
        "    raise Exception('Tidak ada akar pada interval a dan b')\n",
        "  m = (a + b)/2\n",
        "  if np.abs(f(m)) < e:\n",
        "    return m\n",
        "  elif np.sign(f(a)) == np.sign(f(m)):\n",
        "    return my_bisection(f, m, b, e)\n",
        "  elif np.sign(f(b)) == np.sign(f(m)):\n",
        "    return my_bisection(f, a, m, e)"
      ]
    },
    {
      "cell_type": "markdown",
      "metadata": {
        "id": "QK5X5eINXZln"
      },
      "source": [
        "**Contoh Pencarian Akar dengan Metode Bagi Dua**\n",
        "\n",
        "f(x)=x^2 - 2"
      ]
    },
    {
      "cell_type": "code",
      "execution_count": 7,
      "metadata": {
        "colab": {
          "base_uri": "https://localhost:8080/"
        },
        "id": "eJr_l7e2XyM0",
        "outputId": "9f0a0bf6-a59a-4ae7-fc1c-e4c436d940ea"
      },
      "outputs": [
        {
          "name": "stdout",
          "output_type": "stream",
          "text": [
            "r1 = 1.4375\n",
            "f(r1) = 0.06640625\n",
            "r01 = 1.4140625\n",
            "f(r01) = -0.00042724609375\n"
          ]
        }
      ],
      "source": [
        "import numpy as np #panggil library numpy\n",
        "f = lambda x: x**2-2\n",
        "\n",
        "r1 = my_bisection(f, 0, 2, 0.1) #memasukan value kedalam variabel fungsi\n",
        "print(\"r1 =\", r1)\n",
        "print(\"f(r1) =\", f(r1))\n",
        "\n",
        "r01 = my_bisection(f, 0, 2, 0.01) #memasukan value kedalam variabel fungsi\n",
        "print(\"r01 =\", r01)\n",
        "print(\"f(r01) =\", f(r01))"
      ]
    },
    {
      "cell_type": "code",
      "execution_count": 9,
      "metadata": {
        "colab": {
          "base_uri": "https://localhost:8080/",
          "height": 322
        },
        "id": "wXEmWDL3Yh1R",
        "outputId": "66a66430-8175-4210-f0f5-180d79f1eb76"
      },
      "outputs": [
        {
          "ename": "Exception",
          "evalue": "Tidak ada akar pada interval a dan b",
          "output_type": "error",
          "traceback": [
            "\u001b[1;31m---------------------------------------------------------------------------\u001b[0m",
            "\u001b[1;31mException\u001b[0m                                 Traceback (most recent call last)",
            "Cell \u001b[1;32mIn [9], line 3\u001b[0m\n\u001b[0;32m      1\u001b[0m \u001b[38;5;28;01mimport\u001b[39;00m \u001b[38;5;21;01mnumpy\u001b[39;00m \u001b[38;5;28;01mas\u001b[39;00m \u001b[38;5;21;01mnp\u001b[39;00m \u001b[38;5;66;03m#panggil library numpy\u001b[39;00m\n\u001b[0;32m      2\u001b[0m f \u001b[38;5;241m=\u001b[39m \u001b[38;5;28;01mlambda\u001b[39;00m x: x\u001b[38;5;241m*\u001b[39m\u001b[38;5;241m*\u001b[39m\u001b[38;5;241m2\u001b[39m\u001b[38;5;241m-\u001b[39m\u001b[38;5;241m2\u001b[39m\n\u001b[1;32m----> 3\u001b[0m \u001b[43mmy_bisection\u001b[49m\u001b[43m(\u001b[49m\u001b[43mf\u001b[49m\u001b[43m,\u001b[49m\u001b[43m \u001b[49m\u001b[38;5;241;43m2\u001b[39;49m\u001b[43m,\u001b[49m\u001b[43m \u001b[49m\u001b[38;5;241;43m4\u001b[39;49m\u001b[43m,\u001b[49m\u001b[43m \u001b[49m\u001b[38;5;241;43m0.01\u001b[39;49m\u001b[43m)\u001b[49m\n",
            "Cell \u001b[1;32mIn [6], line 4\u001b[0m, in \u001b[0;36mmy_bisection\u001b[1;34m(f, a, b, e)\u001b[0m\n\u001b[0;32m      2\u001b[0m \u001b[38;5;28;01mdef\u001b[39;00m \u001b[38;5;21mmy_bisection\u001b[39m(f, a, b, e):\n\u001b[0;32m      3\u001b[0m   \u001b[38;5;28;01mif\u001b[39;00m np\u001b[38;5;241m.\u001b[39msign(f(a)) \u001b[38;5;241m==\u001b[39m np\u001b[38;5;241m.\u001b[39msign(f(b)):\n\u001b[1;32m----> 4\u001b[0m     \u001b[38;5;28;01mraise\u001b[39;00m \u001b[38;5;167;01mException\u001b[39;00m(\u001b[38;5;124m'\u001b[39m\u001b[38;5;124mTidak ada akar pada interval a dan b\u001b[39m\u001b[38;5;124m'\u001b[39m)\n\u001b[0;32m      5\u001b[0m   m \u001b[38;5;241m=\u001b[39m (a \u001b[38;5;241m+\u001b[39m b)\u001b[38;5;241m/\u001b[39m\u001b[38;5;241m2\u001b[39m\n\u001b[0;32m      6\u001b[0m   \u001b[38;5;28;01mif\u001b[39;00m np\u001b[38;5;241m.\u001b[39mabs(f(m)) \u001b[38;5;241m<\u001b[39m e:\n",
            "\u001b[1;31mException\u001b[0m: Tidak ada akar pada interval a dan b"
          ]
        }
      ],
      "source": [
        "import numpy as np #panggil library numpy\n",
        "f = lambda x: x**2-2\n",
        "my_bisection(f, 2, 4, 0.01)"
      ]
    },
    {
      "cell_type": "markdown",
      "metadata": {
        "id": "uqd3qNtxS939"
      },
      "source": [
        "**Metode Newton-Raphson**"
      ]
    },
    {
      "cell_type": "code",
      "execution_count": null,
      "metadata": {
        "id": "NWM7-9tpVr0a"
      },
      "outputs": [],
      "source": [
        "import numpy as np #panggil library numpy\n",
        "def my_newton(f, df, x0, e):\n",
        "# estimasi output dari akar f\n",
        "# menggunakan Newton-Raphson method\n",
        "# recursive implementation\n",
        "  if abs(f(x0)) < e:\n",
        "    return x0\n",
        "  else:\n",
        "    return my_newton(f, df, x0 - f(x0)/df(x0), e)"
      ]
    },
    {
      "cell_type": "markdown",
      "metadata": {
        "id": "ffztAnc9ZbtI"
      },
      "source": [
        "**Contoh Pencarian Akar dengan Metode Bagi Dua**\n",
        "\n",
        "f(x)=x^2 - 2"
      ]
    },
    {
      "cell_type": "code",
      "execution_count": null,
      "metadata": {
        "colab": {
          "base_uri": "https://localhost:8080/"
        },
        "id": "zFJnxIytZhln",
        "outputId": "e6d71caf-ed8a-4bd9-8946-7e39709d49c1"
      },
      "outputs": [
        {
          "name": "stdout",
          "output_type": "stream",
          "text": [
            "estimate = 1.4142135623746899\n",
            "sqrt(2) = 1.4142135623730951\n"
          ]
        }
      ],
      "source": [
        "f = lambda x: x**2-2\n",
        "f_prime = lambda x: 2*x\n",
        "estimate = my_newton(f, f_prime, 1.5, 1e-6)\n",
        "print(\"estimate =\", estimate)\n",
        "print(\"sqrt(2) =\",np.sqrt(2))"
      ]
    },
    {
      "cell_type": "markdown",
      "metadata": {
        "id": "_l79MbNaaO9N"
      },
      "source": [
        "# **Latihan**"
      ]
    },
    {
      "cell_type": "markdown",
      "metadata": {
        "id": "XX6f9MQOaTas"
      },
      "source": [
        "**No.1 **\n",
        "Buatlah sebuah fungsi penyelesaian yang tepat baik dengan menggunakan metode Bagi Dua maupun Newton Raphson ketika \n",
        "\n",
        "a. f(x) = x^3 - 2x + 1\n",
        "\n",
        "b. f(x) = e^x - x\n",
        "\n",
        "**No 2**\n",
        "\n",
        "Buatlah modifikasi fungsi ketika kriteria program berhenti adalah sudah mencapai pada iterasi ke-n baik untuk Bagi Dua maupun Newton Raphson"
      ]
    },
    {
      "cell_type": "code",
      "execution_count": 24,
      "metadata": {
        "id": "MjocESJra-b5"
      },
      "outputs": [
        {
          "name": "stdout",
          "output_type": "stream",
          "text": [
            "Iterasi-1, x2 = -0.500000 dan f(x2) = 1.875000\n",
            "Iterasi-2, x2 = -1.250000 dan f(x2) = 1.546875\n",
            "Iterasi-3, x2 = -1.625000 dan f(x2) = -0.041016\n",
            "Iterasi-4, x2 = -1.437500 dan f(x2) = 0.904541\n",
            "Iterasi-5, x2 = -1.531250 dan f(x2) = 0.472137\n",
            "Iterasi-6, x2 = -1.578125 dan f(x2) = 0.225964\n",
            "Iterasi-7, x2 = -1.601562 dan f(x2) = 0.095113\n",
            "Iterasi-8, x2 = -1.613281 dan f(x2) = 0.027713\n",
            "Iterasi-9, x2 = -1.619141 dan f(x2) = -0.006484\n",
            "Iterasi-10, x2 = -1.616211 dan f(x2) = 0.010656\n",
            "Iterasi-11, x2 = -1.617676 dan f(x2) = 0.002096\n",
            "Iterasi-12, x2 = -1.618408 dan f(x2) = -0.002191\n",
            "Iterasi-13, x2 = -1.618042 dan f(x2) = -0.000047\n",
            "\n",
            "akar yang dibutuhkan : -1.61804199\n",
            "Iterasi-1, x1 = 2.120000 dan f(x1) = 6.288128\n",
            "Iterasi-2, x1 = 1.572406 dan f(x1) = 1.742902\n",
            "Iterasi-3, x1 = 1.250683 dan f(x1) = 0.454961\n",
            "Iterasi-4, x1 = 1.081717 dan f(x1) = 0.102295\n",
            "Iterasi-5, x1 = 1.013986 dan f(x1) = 0.014576\n",
            "\n",
            "tidak konvergen\n"
          ]
        }
      ],
      "source": [
        "#Nim : 2004839\n",
        "#Nama: Muhammad Fadgham Hafizh\n",
        "\n",
        "#Metode Bagi Dua\n",
        "# mendefinisikan fungsi\n",
        "def f(x):\n",
        "    return x**3-2*x+1\n",
        "    #return re**x-x\n",
        "\n",
        "# mendefinisikan fungsi metode bagi dua\n",
        "def bisection(x0,x1,e):\n",
        "    step = 1\n",
        "    # Jika True maka jalankan looping\n",
        "    condition = True\n",
        "    while condition:\n",
        "        #loop iterasi\n",
        "        x2 = (x0 + x1)/2\n",
        "        print('Iterasi-%d, x2 = %0.6f dan f(x2) = %0.6f' % (step, x2, f(x2)))\n",
        "\n",
        "        if f(x0) * f(x2) < 0:\n",
        "            x1 = x2\n",
        "        else:\n",
        "            x0 = x2\n",
        "            \n",
        "        step = step + 1\n",
        "        condition = abs(f(x2)) > e\n",
        "\n",
        "    print('\\nakar yang dibutuhkan : %0.8f' % x2)\n",
        "\n",
        "\n",
        "# Input\n",
        "# convert inputan ke tipe data float\n",
        "x0 = input('Perkiraan 1: ')\n",
        "x0 = float(x0)\n",
        "x1 = input('Perkiraan 2: ')\n",
        "x1 = float(x1)\n",
        "e = input('Perkiraan Error: ')\n",
        "e = float(e)\n",
        "\n",
        "# Contoh\n",
        "# Perkiraan 1 : -2\n",
        "# Perkiraan 2 : -1\n",
        "# Perkiraan Error : 0.00001\n",
        "\n",
        "# Cek value perkiraan dan bagi dua\n",
        "\n",
        "if f(x0) * f(x1) > 0.0:\n",
        "    print('Nilai perkiraan tidak mengurung akar')\n",
        "    print('Coba lagi')\n",
        "else: \n",
        "    bisection(x0,x1,e)\n",
        "\n",
        "\n",
        "\n",
        "#Metode Newton Raphson\n",
        "# Mendefinisikan fungsi\n",
        "def f(x):\n",
        "    return x**3-2*x+1\n",
        "    #return re**x-x\n",
        "# Mendifinisikan fungsi derivatif\n",
        "def g(x):\n",
        "    return 3*x**2-2\n",
        "    #return e**x-1\n",
        "\n",
        "# Mendefinisikan fungsi metode newtonRaphson\n",
        "def newtonRaphson(x0,e,N):\n",
        "    step = 1\n",
        "    flag = 1\n",
        "    condition = True\n",
        "    while condition:\n",
        "        if g(x0) == 0.0:\n",
        "            #jika dibagi 0 maka error\n",
        "            print('dibagi 0 error')\n",
        "            break\n",
        "        #loop iterasi\n",
        "        x1 = x0 - f(x0)/g(x0)\n",
        "        print('Iterasi-%d, x1 = %0.6f dan f(x1) = %0.6f' % (step, x1, f(x1)))\n",
        "        x0 = x1\n",
        "        step = step + 1\n",
        "        \n",
        "        if step > N:\n",
        "            flag = 0\n",
        "            break\n",
        "        \n",
        "        condition = abs(f(x1)) > e\n",
        "    \n",
        "    if flag==1:\n",
        "        print('\\nakar yang dibutuhkan : %0.8f' % x1)\n",
        "    else:\n",
        "        print('\\ntidak konvergen')\n",
        "\n",
        "\n",
        "# convert inputan ke tipe data float\n",
        "x0 = input('Perkiraan: ')\n",
        "x0 = float(x0)\n",
        "e = input('Perkiraan Error: ')\n",
        "e = float(e)\n",
        "# convert inputan ke tipe data int\n",
        "N = input('Jumlah Step: ')\n",
        "N = int(N)\n",
        "\n",
        "newtonRaphson(x0,e,N)"
      ]
    }
  ],
  "metadata": {
    "colab": {
      "provenance": []
    },
    "kernelspec": {
      "display_name": "Python 3.10.7 64-bit",
      "language": "python",
      "name": "python3"
    },
    "language_info": {
      "codemirror_mode": {
        "name": "ipython",
        "version": 3
      },
      "file_extension": ".py",
      "mimetype": "text/x-python",
      "name": "python",
      "nbconvert_exporter": "python",
      "pygments_lexer": "ipython3",
      "version": "3.10.7"
    },
    "vscode": {
      "interpreter": {
        "hash": "876db7d3f8682b7e4c5477e5f1e2dc2bd1b19fe05d9aabd59218369070754b39"
      }
    }
  },
  "nbformat": 4,
  "nbformat_minor": 0
}
