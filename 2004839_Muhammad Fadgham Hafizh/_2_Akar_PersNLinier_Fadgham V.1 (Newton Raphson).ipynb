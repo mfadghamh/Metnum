{
 "cells": [
  {
   "cell_type": "code",
   "execution_count": 3,
   "metadata": {},
   "outputs": [
    {
     "name": "stdout",
     "output_type": "stream",
     "text": [
      "Iterasi-1, x1 = 4.400000 dan f(x1) = 2.560000\n",
      "Iterasi-2, x1 = 4.023529 dan f(x1) = 0.141730\n",
      "Iterasi-3, x1 = 4.000092 dan f(x1) = 0.000549\n",
      "Iterasi-4, x1 = 4.000000 dan f(x1) = 0.000000\n",
      "\n",
      "akar yang dibutuhkan : 4.00000000\n"
     ]
    }
   ],
   "source": [
    "#Metode Newton Raphson\n",
    "# Mendefinisikan fungsi\n",
    "def f(x):\n",
    "    #return x**3-2*x+1\n",
    "    #return re**x-x\n",
    "    return x**2-2*x-8\n",
    "# Mendifinisikan fungsi derivatif\n",
    "def g(x):\n",
    "    #return 3*x**2-2\n",
    "    #return e**x-1\n",
    "    return 2*x-2\n",
    "# Mendefinisikan fungsi metode newtonRaphson\n",
    "def newtonRaphson(x0,e,N):\n",
    "    step = 1\n",
    "    flag = 1\n",
    "    condition = True\n",
    "    while condition:\n",
    "        if g(x0) == 0.0:\n",
    "            #jika dibagi 0 maka error\n",
    "            print('dibagi 0 error')\n",
    "            break\n",
    "        #loop iterasi\n",
    "        x1 = x0 - f(x0)/g(x0)\n",
    "        print('Iterasi-%d, x1 = %0.6f dan f(x1) = %0.6f' % (step, x1, f(x1)))\n",
    "        x0 = x1\n",
    "        step = step + 1\n",
    "        \n",
    "        if step > N:\n",
    "            flag = 0\n",
    "            break\n",
    "        \n",
    "        condition = abs(f(x1)) > e\n",
    "    \n",
    "    if flag==1:\n",
    "        print('\\nakar yang dibutuhkan : %0.8f' % x1)\n",
    "    else:\n",
    "        print('\\ntidak konvergen')\n",
    "\n",
    "\n",
    "# convert inputan ke tipe data float\n",
    "x0 = input('Perkiraan: ')\n",
    "x0 = float(x0)\n",
    "e = input('Perkiraan Error: ')\n",
    "e = float(e)\n",
    "# convert inputan ke tipe data int\n",
    "N = input('Jumlah Step: ')\n",
    "N = int(N)\n",
    "\n",
    "newtonRaphson(x0,e,N)"
   ]
  }
 ],
 "metadata": {
  "kernelspec": {
   "display_name": "Python 3.8.6 64-bit ('3.8.6')",
   "language": "python",
   "name": "python3"
  },
  "language_info": {
   "codemirror_mode": {
    "name": "ipython",
    "version": 3
   },
   "file_extension": ".py",
   "mimetype": "text/x-python",
   "name": "python",
   "nbconvert_exporter": "python",
   "pygments_lexer": "ipython3",
   "version": "3.8.6"
  },
  "orig_nbformat": 4,
  "vscode": {
   "interpreter": {
    "hash": "a9b02a300604dbf31b99c1f3f895b3948fb8c72a3bbdaa1f61cfe780a1ac0c65"
   }
  }
 },
 "nbformat": 4,
 "nbformat_minor": 2
}
