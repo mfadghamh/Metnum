{
 "cells": [
  {
   "cell_type": "code",
   "execution_count": 56,
   "metadata": {},
   "outputs": [
    {
     "name": "stdout",
     "output_type": "stream",
     "text": [
      "Lower\t\t\t\tUpper\n",
      "1.00\t0.00\t0.00\t\t1.00\t2.00\t3.00\t\n",
      "3.00\t1.00\t0.00\t\t0.00\t-7.00\t-7.00\t\n",
      "4.00\t2.00\t1.00\t\t0.00\t0.00\t-2.00\t\n"
     ]
    }
   ],
   "source": [
    "import numpy as np\n",
    "\n",
    "def showMatrix(matrix):\n",
    "    n = len(matrix)\n",
    "    for i in range (n):\n",
    "        for j in range(n):\n",
    "            print('%.2f' % matrix[i][j], end='\\t')\n",
    "        print(\"\")\n",
    "\n",
    "A = np.array([[1,2,1],[-2,3,5],[6,2,-1]],dtype=float)\n",
    "print(\"Matriks A: \",); showMatrix(A)\n",
    "\n",
    "U = np.copy(A)\n",
    "print(\"\\nMatriks UA: \",); showMatrix(U)\n",
    "\n",
    "U[1,:] += 2 * U[0,:]\n",
    "print(\"U: \"); showMatrix(U)\n",
    "\n",
    "E1 = np.identity(3)"
   ]
  },
  {
   "cell_type": "code",
   "execution_count": null,
   "metadata": {},
   "outputs": [],
   "source": [
    "import numpy as np\n",
    "\n",
    "def crout(A):\n",
    "    L = np.zeros((3, 3))\n",
    "    U = np.zeros((3, 3))\n",
    "    \n",
    "    for k in range(0, 3):\n",
    "        U[k, k] = 1 \n",
    "\n",
    "        for j in range(k, 3):\n",
    "            sum0 = sum([L[j, s] * U[s, k] for s in range(0, j)]) \n",
    "            L[j, k] = A[j, k] - sum0 \n",
    "            print(f\"{j}. \",L)\n",
    "            print(\"\")\n",
    "\n",
    "        for j in range(k+1, 3):\n",
    "            sum1 = sum([L[k, s] * U[s, j] for s in range(0, k)]) \n",
    "            U[k, j] = (A[k, j] - sum1) / L[k, k]\n",
    "            print(f\"{j}. \",U)\n",
    "            print(\"\")\n",
    "    print(L)\n",
    "    print(U)\n",
    "    return L, U\n",
    "\n",
    "A = np.array([[60.0, 30.0, 20.0], [30.0, 20.0, 15.0], [20.0, 15.0, 12.0]])\n",
    "print(f\"Matriks A: \\n{A}\")\n",
    "print(\"\\nCrout: \"); crout(A)"
   ]
  }
 ],
 "metadata": {
  "kernelspec": {
   "display_name": "Python 3.10.7 64-bit",
   "language": "python",
   "name": "python3"
  },
  "language_info": {
   "codemirror_mode": {
    "name": "ipython",
    "version": 3
   },
   "file_extension": ".py",
   "mimetype": "text/x-python",
   "name": "python",
   "nbconvert_exporter": "python",
   "pygments_lexer": "ipython3",
   "version": "3.10.7"
  },
  "orig_nbformat": 4,
  "vscode": {
   "interpreter": {
    "hash": "876db7d3f8682b7e4c5477e5f1e2dc2bd1b19fe05d9aabd59218369070754b39"
   }
  }
 },
 "nbformat": 4,
 "nbformat_minor": 2
}
