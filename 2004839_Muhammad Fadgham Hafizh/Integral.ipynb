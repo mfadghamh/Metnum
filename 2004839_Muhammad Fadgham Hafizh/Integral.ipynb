{
 "cells": [
  {
   "cell_type": "markdown",
   "metadata": {},
   "source": [
    "# Integral"
   ]
  },
  {
   "cell_type": "code",
   "execution_count": 1,
   "metadata": {},
   "outputs": [
    {
     "name": "stdout",
     "output_type": "stream",
     "text": [
      "The numerical result is 17.864264 (+-1.55117e-11)\n"
     ]
    }
   ],
   "source": [
    "from math import cos, exp, pi\n",
    "from scipy.integrate import quad\n",
    "\n",
    "\n",
    "def f(x):\n",
    "    return exp(cos(-2 * x * pi)) + 3.2\n",
    "\n",
    "\n",
    "res, err = quad(f, -2, 2)\n",
    "\n",
    "print(\"Hasil Numeriknya Adalah {:f} (+-{:g})\"\n",
    "    .format(res, err))"
   ]
  },
  {
   "cell_type": "code",
   "execution_count": 4,
   "metadata": {},
   "outputs": [
    {
     "name": "stdout",
     "output_type": "stream",
     "text": [
      "Hasil Integral =  1.9129418625998234\n"
     ]
    },
    {
     "data": {
      "image/png": "[encoded data removed]",
      "text/plain": [
       "<Figure size 432x288 with 1 Axes>"
      ]
     },
     "metadata": {
      "needs_background": "light"
     },
     "output_type": "display_data"
    }
   ],
   "source": [
    "import numpy as np\n",
    "import matplotlib.pyplot as plt\n",
    "def func(x):\n",
    "    return (x**2) * np.exp(-x)\n",
    "\n",
    "a = 1.0\n",
    "b = 10.0\n",
    "n = 50\n",
    "\n",
    "x = np.linspace(a, b, n)\n",
    "dx = (x[-1]-x[0])/(n-1)\n",
    "\n",
    "hasil = 0\n",
    "for i in range(n-1):\n",
    "    hasil += dx * func(x[i])\n",
    "\n",
    "print(\"Hasil Integral = \", hasil)\n",
    "\n",
    "xplt = np.linspace(a, b, 50)\n",
    "\n",
    "plt.plot(xplt,func(xplt))\n",
    "for i in range(n-1):\n",
    "    plt.bar(x[i], func(x[i]), align='edge', width=dx, color='gray', edgecolor='r')\n",
    "\n",
    "plt.show()"
   ]
  }
 ],
 "metadata": {
  "kernelspec": {
   "display_name": "Python 3",
   "language": "python",
   "name": "python3"
  },
  "language_info": {
   "codemirror_mode": {
    "name": "ipython",
    "version": 3
   },
   "file_extension": ".py",
   "mimetype": "text/x-python",
   "name": "python",
   "nbconvert_exporter": "python",
   "pygments_lexer": "ipython3",
   "version": "3.10.7"
  },
  "orig_nbformat": 4,
  "vscode": {
   "interpreter": {
    "hash": "876db7d3f8682b7e4c5477e5f1e2dc2bd1b19fe05d9aabd59218369070754b39"
   }
  }
 },
 "nbformat": 4,
 "nbformat_minor": 2
}
