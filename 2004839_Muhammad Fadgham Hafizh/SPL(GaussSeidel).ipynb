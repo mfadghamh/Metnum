{
  "cells": [
    {
      "cell_type": "code",
      "execution_count": 2,
      "metadata": {
        "id": "9gkuKo2BsGSa"
      },
      "outputs": [
        {
          "name": "stdout",
          "output_type": "stream",
          "text": [
            "\n",
            "Count\ta\tb\tc\td\te\n",
            "\n",
            "1\t0.6250\t0.3611\t0.2440\t0.2444\t0.2444\n",
            "\n",
            "2\t0.7458\t0.5236\t0.4357\t0.4323\t0.4323\n",
            "\n",
            "3\t0.8104\t0.6440\t0.5770\t0.5743\t0.5743\n",
            "\n",
            "4\t0.8581\t0.7332\t0.6829\t0.6808\t0.6808\n",
            "\n",
            "5\t0.8937\t0.8000\t0.7623\t0.7607\t0.7607\n",
            "\n",
            "6\t0.9203\t0.8501\t0.8218\t0.8206\t0.8206\n",
            "\n",
            "7\t0.9402\t0.8876\t0.8664\t0.8655\t0.8655\n",
            "\n",
            "8\t0.9552\t0.9157\t0.8999\t0.8992\t0.8992\n",
            "\n",
            "9\t0.9664\t0.9368\t0.9249\t0.9244\t0.9244\n",
            "\n",
            "10\t0.9748\t0.9526\t0.9437\t0.9433\t0.9433\n",
            "\n",
            "11\t0.9811\t0.9645\t0.9578\t0.9575\t0.9575\n",
            "\n",
            "12\t0.9858\t0.9734\t0.9684\t0.9682\t0.9682\n",
            "\n",
            "13\t0.9894\t0.9800\t0.9763\t0.9761\t0.9761\n",
            "\n",
            "14\t0.9920\t0.9850\t0.9822\t0.9821\t0.9821\n",
            "\n",
            "15\t0.9940\t0.9888\t0.9867\t0.9866\t0.9866\n",
            "\n",
            "16\t0.9955\t0.9916\t0.9900\t0.9899\t0.9899\n",
            "\n",
            "17\t0.9966\t0.9937\t0.9925\t0.9925\t0.9925\n",
            "\n",
            "18\t0.9975\t0.9953\t0.9944\t0.9943\t0.9943\n",
            "\n",
            "19\t0.9981\t0.9965\t0.9958\t0.9958\t0.9958\n",
            "\n",
            "20\t0.9986\t0.9973\t0.9968\t0.9968\t0.9968\n",
            "\n",
            "21\t0.9989\t0.9980\t0.9976\t0.9976\t0.9976\n",
            "\n",
            "22\t0.9992\t0.9985\t0.9982\t0.9982\t0.9982\n",
            "\n",
            "23\t0.9994\t0.9989\t0.9987\t0.9987\t0.9987\n",
            "\n",
            "24\t0.9996\t0.9992\t0.9990\t0.9990\t0.9990\n",
            "\n",
            "25\t0.9997\t0.9994\t0.9993\t0.9992\t0.9992\n",
            "\n",
            "26\t0.9997\t0.9995\t0.9994\t0.9994\t0.9994\n",
            "\n",
            "\n",
            "Solution: a=0.9997, b=0.9995, c=0.9994, d=0.9994 and eps = 0.9994\n",
            "\n"
          ]
        }
      ],
      "source": [
        "# Gauss Seidel \n",
        "\n",
        "\n",
        "f1 = lambda a, b, c, d, e: (5 + 2 * b + c) / 8\n",
        "f2 = lambda a, b, c, d, e: (2 + 2 * a + 4 * c + d) / 9\n",
        "f3 = lambda a, b, c, d, e: (a + 3 * b + d + 2 * e) / 7\n",
        "f4 = lambda a, b, c, d, e: (1 + 4 * b + 2 * c + 5 * e) / 12\n",
        "f5 = lambda a, b, c, d, e: (5 + 7 * c + 3 * d) / 15\n",
        "\n",
        "\n",
        "a0 = 0\n",
        "b0 = 0\n",
        "c0 = 0\n",
        "d0 = 0\n",
        "e0 = 0\n",
        "\n",
        "count = 1\n",
        "\n",
        "# Galat \n",
        "eps = 0.0001\n",
        "\n",
        "print('\\nHitung\\ta\\tb\\tc\\td\\te\\n')\n",
        "\n",
        "condition = True\n",
        "\n",
        "while condition:\n",
        "    a1 = f1(a0, b0, c0, d0, e0)\n",
        "    b1 = f2(a1, b0, c0, d0, e0)\n",
        "    c1 = f3(a1, b1, c0, d0, e0)\n",
        "    d1 = f4(a1, b1, c1, d0, e0)\n",
        "    e1 = f4(a1, b1, c1, d1, e0)\n",
        "\n",
        "    print('%d\\t%0.4f\\t%0.4f\\t%0.4f\\t%0.4f\\t%0.4f\\n' % (count, a1, b1, c1, d1, e1))\n",
        "    ep1 = abs(a0 - a1)\n",
        "    ep2 = abs(b0 - b1)\n",
        "    ep3 = abs(c0 - c1)\n",
        "    ep4 = abs(d0 - d1)\n",
        "    ep5 = abs(e0 - e1)\n",
        "\n",
        "    count += 1\n",
        "    a0 = a1\n",
        "    b0 = b1\n",
        "    c0 = c1\n",
        "    d0 = d1\n",
        "    e0 = e1\n",
        "\n",
        "    condition = ep1 > eps and ep2 > eps and ep3 > eps and ep4 > eps and ep5 > eps\n",
        "\n",
        "print('\\nSolusi: a=%0.4f, b=%0.4f, c=%0.4f, d=%0.4f and eps = %0.4f\\n' % (a1, b1, c1, d1, e1))\n"
      ]
    }
  ],
  "metadata": {
    "colab": {
      "provenance": []
    },
    "kernelspec": {
      "display_name": "Python 3.10.7 64-bit",
      "language": "python",
      "name": "python3"
    },
    "language_info": {
      "codemirror_mode": {
        "name": "ipython",
        "version": 3
      },
      "file_extension": ".py",
      "mimetype": "text/x-python",
      "name": "python",
      "nbconvert_exporter": "python",
      "pygments_lexer": "ipython3",
      "version": "3.10.7"
    },
    "vscode": {
      "interpreter": {
        "hash": "876db7d3f8682b7e4c5477e5f1e2dc2bd1b19fe05d9aabd59218369070754b39"
      }
    }
  },
  "nbformat": 4,
  "nbformat_minor": 0
}
