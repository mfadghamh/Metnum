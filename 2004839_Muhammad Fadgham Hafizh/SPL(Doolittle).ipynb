{
 "cells": [
  {
   "cell_type": "code",
   "execution_count": 56,
   "metadata": {},
   "outputs": [
    {
     "name": "stdout",
     "output_type": "stream",
     "text": [
      "Lower\t\t\t\tUpper\n",
      "1.00\t0.00\t0.00\t\t1.00\t2.00\t3.00\t\n",
      "3.00\t1.00\t0.00\t\t0.00\t-7.00\t-7.00\t\n",
      "4.00\t2.00\t1.00\t\t0.00\t0.00\t-2.00\t\n"
     ]
    }
   ],
   "source": [
    "\n",
    "def luDecomposition(mat, n):\n",
    " \n",
    "    lower = [[0 for x in range(n)]\n",
    "             for y in range(n)]\n",
    "    upper = [[0 for x in range(n)]\n",
    "             for y in range(n)]\n",
    "    \n",
    "    # Dekomposisi Matriks LU (Bawah dan Atas)\n",
    "    for i in range(n):\n",
    " \n",
    "        # Upper (Atas)\n",
    "        for k in range(i, n):\n",
    " \n",
    "            # Penjumlahan dari L(i, j) * U(j, k)\n",
    "            sum = 0\n",
    "            for j in range(i):\n",
    "                sum += (lower[i][j] * upper[j][k])\n",
    " \n",
    "            # Mengevaluasi U(i, k)\n",
    "            upper[i][k] = float(mat[i][k] - sum)\n",
    " \n",
    "        # Lower (Bawah)\n",
    "        for k in range(i, n):\n",
    "            if (i == k):\n",
    "                lower[i][i] = 1  # Diagonal = 1\n",
    "            else:\n",
    " \n",
    "                # Penjumlahan of L(k, j) * U(j, i)\n",
    "                sum = 0\n",
    "                for j in range(i):\n",
    "                    sum += (lower[k][j] * upper[j][i])\n",
    " \n",
    "                # Mengevaluasi L(k, i)\n",
    "                lower[k][i] = float((mat[k][i] - sum) /\n",
    "                                  upper[i][i])\n",
    " \n",
    "    \n",
    "    print(\"Lower\\t\\t\\t\\tUpper\")\n",
    " \n",
    "    # Hasil :\n",
    "    for i in range(n):\n",
    "        \n",
    "        # Lower\n",
    "        for j in range(n):\n",
    "            print(\"%.2f\" %  lower[i][j], end=\"\\t\")\n",
    "        print(\"\", end=\"\\t\")\n",
    " \n",
    "        # Upper\n",
    "        for j in range(n):\n",
    "            print(\"%.2f\" %  upper[i][j], end=\"\\t\")\n",
    "        print(\"\")\n",
    "\n",
    "\n",
    "#\"%.2f\" %        \n",
    " \n",
    "# Matriks\n",
    "#mat = [[2, -1, -2],\n",
    "#       [-4, 6, 3],\n",
    "#       [-4, -2, 8]]\n",
    "\n",
    "\n",
    "#mat = [[1, -1, 2,-1],\n",
    "#       [1, 1, 1,0],\n",
    "#       [2, -2, 3,-3],\n",
    "#       [1,-1,4,3]]\n",
    "\n",
    "mat = [[1, 2, 3],\n",
    "       [3, -1, 2],\n",
    "       [4, -6, -4]]\n",
    "\n",
    "\n",
    "#mat = [[4, 1, 2],\n",
    "#       [3, 3, 1],\n",
    "#       [2, 1, 3]]\n",
    "       \n",
    "#mat = [[4, 3, 2] , [1, 3, 1], [2, 1, 3]]\n",
    "\n",
    "luDecomposition(mat, 3) \n",
    "#luDecomposition(mat, 4)"
   ]
  }
 ],
 "metadata": {
  "kernelspec": {
   "display_name": "Python 3.10.7 64-bit",
   "language": "python",
   "name": "python3"
  },
  "language_info": {
   "codemirror_mode": {
    "name": "ipython",
    "version": 3
   },
   "file_extension": ".py",
   "mimetype": "text/x-python",
   "name": "python",
   "nbconvert_exporter": "python",
   "pygments_lexer": "ipython3",
   "version": "3.10.7"
  },
  "orig_nbformat": 4,
  "vscode": {
   "interpreter": {
    "hash": "876db7d3f8682b7e4c5477e5f1e2dc2bd1b19fe05d9aabd59218369070754b39"
   }
  }
 },
 "nbformat": 4,
 "nbformat_minor": 2
}
