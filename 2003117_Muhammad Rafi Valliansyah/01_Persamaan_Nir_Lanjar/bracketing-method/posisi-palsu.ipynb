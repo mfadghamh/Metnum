{
 "cells": [
  {
   "cell_type": "markdown",
   "metadata": {},
   "source": [
    "# *Posisi Palsu*"
   ]
  },
  {
   "cell_type": "code",
   "execution_count": 1,
   "metadata": {},
   "outputs": [
    {
     "name": "stdout",
     "output_type": "stream",
     "text": [
      "\n",
      "\n",
      "*** FALSE POSITION METHOD IMPLEMENTATION ***\n",
      "Iteration-1, x2 = 2.785714 and f(x2) = -1.310860\n",
      "Iteration-2, x2 = 2.850875 and f(x2) = -0.083923\n",
      "Iteration-3, x2 = 2.854933 and f(x2) = -0.005125\n",
      "Iteration-4, x2 = 2.855180 and f(x2) = -0.000312\n",
      "Iteration-5, x2 = 2.855196 and f(x2) = -0.000019\n",
      "Iteration-6, x2 = 2.855196 and f(x2) = -0.000001\n",
      "\n",
      "Required root is: 2.85519648\n"
     ]
    }
   ],
   "source": [
    "\n",
    "# Defining Function\n",
    "def f(x):\n",
    "    return x**3-5*x-9\n",
    "\n",
    "# Implementing False Position Method\n",
    "def falsePosition(x0,x1,e):\n",
    "    step = 1\n",
    "    print('\\n\\n*** FALSE POSITION METHOD IMPLEMENTATION ***')\n",
    "    condition = True\n",
    "    while condition:\n",
    "        x2 = x0 - (x1-x0) * f(x0)/( f(x1) - f(x0) )\n",
    "        print('Iteration-%d, x2 = %0.6f and f(x2) = %0.6f' % (step, x2, f(x2)))\n",
    "\n",
    "        if f(x0) * f(x2) < 0:\n",
    "            x1 = x2\n",
    "        else:\n",
    "            x0 = x2\n",
    "\n",
    "        step = step + 1\n",
    "        condition = abs(f(x2)) > e\n",
    "\n",
    "    print('\\nRequired root is: %0.8f' % x2)\n",
    "\n",
    "\n",
    "# Input Section\n",
    "x0 = input('First Guess: ')\n",
    "x1 = input('Second Guess: ')\n",
    "e = input('Tolerable Error: ')\n",
    "\n",
    "# Converting input to float\n",
    "x0 = float(x0)\n",
    "x1 = float(x1)\n",
    "e = float(e)\n",
    "\n",
    "#Note: You can combine above two section like this\n",
    "# x0 = float(input('First Guess: '))\n",
    "# x1 = float(input('Second Guess: '))\n",
    "# e = float(input('Tolerable Error: '))\n",
    "\n",
    "\n",
    "# Checking Correctness of initial guess values and false positioning\n",
    "if f(x0) * f(x1) > 0.0:\n",
    "    print('Given guess values do not bracket the root.')\n",
    "    print('Try Again with different guess values.')\n",
    "else:\n",
    "    falsePosition(x0,x1,e)\n",
    "    "
   ]
  },
  {
   "cell_type": "markdown",
   "metadata": {},
   "source": [
    "[Source](https://www.codesansar.com/numerical-methods/false-position-method-python-program.htm)"
   ]
  }
 ],
 "metadata": {
  "kernelspec": {
   "display_name": "Python 3.8.6 64-bit",
   "language": "python",
   "name": "python3"
  },
  "language_info": {
   "codemirror_mode": {
    "name": "ipython",
    "version": 3
   },
   "file_extension": ".py",
   "mimetype": "text/x-python",
   "name": "python",
   "nbconvert_exporter": "python",
   "pygments_lexer": "ipython3",
   "version": "3.8.6"
  },
  "orig_nbformat": 4,
  "vscode": {
   "interpreter": {
    "hash": "ff0d91300876931207232d01add3156fa7c8214350996c757a3c6cebc4b3b5d5"
   }
  }
 },
 "nbformat": 4,
 "nbformat_minor": 2
}
