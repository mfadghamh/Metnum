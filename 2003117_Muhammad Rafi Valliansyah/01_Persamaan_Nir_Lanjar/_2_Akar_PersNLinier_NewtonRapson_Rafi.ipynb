{
  "cells": [
    {
      "cell_type": "markdown",
      "metadata": {
        "id": "XX6f9MQOaTas"
      },
      "source": [
        "\n",
        "Buatlah sebuah fungsi penyelesaian yang tepat baik dengan menggunakan metode Newton Raphson ketika \n",
        "f(x) = x^2 - 2x - 8\n"
      ]
    },
    {
      "cell_type": "markdown",
      "metadata": {},
      "source": [
        "Metode Newton-Rapson : Jawab"
      ]
    },
    {
      "cell_type": "code",
      "execution_count": 5,
      "metadata": {},
      "outputs": [
        {
          "name": "stdout",
          "output_type": "stream",
          "text": [
            "Tebakan akar pada iterasi 1 : adalah 1.469552928248997, dengan f(x) = 0.8777382272266046\n",
            "Tebakan akar pada iterasi 2 : adalah 1.207329480554352, dengan f(x) = 0.13721157336162415\n",
            "Tebakan akar pada iterasi 3 : adalah 1.1488056286762003, dengan f(x) = 0.005617477687843042\n",
            "Tebakan akar pada iterasi 4 : adalah 1.1461982124861076, dengan f(x) = 1.0713547147211955e-05\n",
            "Tebakan akar pada iterasi 5 : adalah 1.1461932206388474, dengan f(x) = 3.919975455346503e-11\n",
            "Tebakan akar pada iterasi 6 : adalah 1.1461932206205827, dengan f(x) = 0.0\n",
            "Akar fungsi A adalah  1.1461932206205827\n"
          ]
        }
      ],
      "source": [
        "from sympy import *\n",
        "import math as matek\n",
        "\n",
        "def newtRafson(f, df, x, e):\n",
        "    counter = 0\n",
        "    iterasi = True\n",
        "    xi = 0\n",
        "    while iterasi:\n",
        "        if ( df(x) == 0 ): raise Exception(\"Turunan fungsi tidak boleh 0\")\n",
        "        xi = x - (f(x) / df(x))\n",
        "        counter+=1\n",
        "        print(\"Tebakan akar pada iterasi \" + str(counter) + \" : adalah \" + str(xi) + \", dengan f(x) = \" + str(f(xi)))\n",
        "        if(abs(xi - x) < e):\n",
        "            iterasi = False\n",
        "        elif(counter == 10):\n",
        "            iterasi = False\n",
        "        x = xi\n",
        "    return xi\n",
        "\n",
        "# fungsiAA = lambda x: x ** 2 - 2 * x -8\n",
        "# dfungsiAA = lambda x: x * 2 - 2\n",
        "fungsiAA = lambda x: matek.e ** x - x - 2\n",
        "dfungsiAA = lambda x: matek.e ** x - 1\n",
        "\n",
        "print(\"Akar fungsi A adalah \", newtRafson(fungsiAA, dfungsiAA, 2, 0.000001))"
      ]
    }
  ],
  "metadata": {
    "colab": {
      "provenance": []
    },
    "kernelspec": {
      "display_name": "Python 3.8.6 64-bit ('3.8.6')",
      "language": "python",
      "name": "python3"
    },
    "language_info": {
      "codemirror_mode": {
        "name": "ipython",
        "version": 3
      },
      "file_extension": ".py",
      "mimetype": "text/x-python",
      "name": "python",
      "nbconvert_exporter": "python",
      "pygments_lexer": "ipython3",
      "version": "3.8.6"
    },
    "vscode": {
      "interpreter": {
        "hash": "a9b02a300604dbf31b99c1f3f895b3948fb8c72a3bbdaa1f61cfe780a1ac0c65"
      }
    }
  },
  "nbformat": 4,
  "nbformat_minor": 0
}
