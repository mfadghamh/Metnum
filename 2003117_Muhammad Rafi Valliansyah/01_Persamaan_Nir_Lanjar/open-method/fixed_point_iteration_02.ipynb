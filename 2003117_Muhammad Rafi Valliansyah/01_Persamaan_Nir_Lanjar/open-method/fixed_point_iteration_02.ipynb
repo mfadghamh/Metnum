{
 "cells": [
  {
   "cell_type": "markdown",
   "metadata": {},
   "source": [
    "# *Iterasi Titik Tetap v02*"
   ]
  },
  {
   "cell_type": "code",
   "execution_count": null,
   "metadata": {},
   "outputs": [],
   "source": [
    "from pylab import plot,show\n",
    "from numpy import array,linspace,sqrt,sin\n",
    "from numpy.linalg import norm\n",
    "\n",
    "def fixedp(f,x0,tol=10e-5,maxiter=100):\n",
    " \"\"\" Fixed point algorithm \"\"\"\n",
    " e = 1\n",
    " itr = 0\n",
    " xp = []\n",
    " while(e > tol and itr < maxiter):\n",
    "  x = f(x0)      # fixed point equation\n",
    "  e = norm(x0-x) # error at the current step\n",
    "  x0 = x\n",
    "  xp.append(x0)  # save the solution of the current step\n",
    "  itr = itr + 1\n",
    " return x,xp"
   ]
  },
  {
   "cell_type": "code",
   "execution_count": null,
   "metadata": {},
   "outputs": [],
   "source": [
    "f = lambda x : sqrt(x)\n",
    "\n",
    "x_start = .5\n",
    "xf,xp = fixedp(f,x_start)\n",
    "\n",
    "x = linspace(0,2,100)\n",
    "y = f(x)\n",
    "plot(x,y,xp,f(xp),'bo', x_start,f(x_start),'ro',xf,f(xf),'go',x,x,'k')\n",
    "show()"
   ]
  },
  {
   "cell_type": "code",
   "execution_count": null,
   "metadata": {},
   "outputs": [],
   "source": [
    "# 2 variables function\n",
    "def g(x):\n",
    " x[0] = 1/4*(x[0]*x[0] + x[1]*x[1])\n",
    " x[1] = sin(x[0]+1)\n",
    " return array(x)\n",
    "\n",
    "x,xf = fixedp(g,[0, 1])\n",
    "print ('   x =',x)\n",
    "print ('f(x) =',g(xf[len(xf)-1]))"
   ]
  },
  {
   "cell_type": "markdown",
   "metadata": {},
   "source": [
    "[Source](https://glowingpython.blogspot.com/2012/01/fixed-point-iteration.html)"
   ]
  }
 ],
 "metadata": {
  "kernelspec": {
   "display_name": "Python 3.8.6 64-bit",
   "language": "python",
   "name": "python3"
  },
  "language_info": {
   "name": "python",
   "version": "3.8.6"
  },
  "orig_nbformat": 4,
  "vscode": {
   "interpreter": {
    "hash": "ff0d91300876931207232d01add3156fa7c8214350996c757a3c6cebc4b3b5d5"
   }
  }
 },
 "nbformat": 4,
 "nbformat_minor": 2
}
