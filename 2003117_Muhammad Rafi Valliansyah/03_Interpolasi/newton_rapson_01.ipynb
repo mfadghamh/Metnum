{
 "cells": [
  {
   "cell_type": "markdown",
   "metadata": {},
   "source": [
    "# *Polinomial Newton Rapson*"
   ]
  },
  {
   "cell_type": "markdown",
   "metadata": {},
   "source": [
    "> Importing Package"
   ]
  },
  {
   "cell_type": "code",
   "execution_count": null,
   "metadata": {},
   "outputs": [],
   "source": [
    "# Importing Packages\n",
    "import numpy as np\n",
    "import matplotlib.pyplot as plt"
   ]
  },
  {
   "cell_type": "markdown",
   "metadata": {},
   "source": [
    "> Defining Equation and Derivative"
   ]
  },
  {
   "cell_type": "code",
   "execution_count": null,
   "metadata": {},
   "outputs": [],
   "source": [
    "# Defining Equation and Derivative\n",
    "def f(x):\n",
    "    res = np.cos(x)-2*x**3\n",
    "    return res\n",
    " \n",
    "def dfdx(x):\n",
    "    res = -np.sin(x)-6*x**2\n",
    "    return res"
   ]
  },
  {
   "cell_type": "markdown",
   "metadata": {},
   "source": [
    "> Newton-Raphson Loop"
   ]
  },
  {
   "cell_type": "code",
   "execution_count": null,
   "metadata": {},
   "outputs": [],
   "source": [
    "# Newton-Raphson Algorithm\n",
    "max_iter = 20  # Max iterations\n",
    "tol = 1E-15  # Tolerance\n",
    "i = 0  # Iteration counter\n",
    "x0 = 1  # Initial guess\n",
    "xi_1 = x0\n",
    "print('Iteration ' + str(i) + ': x = ' + str(x0) + ', f(x) = ' + \n",
    "      str(f(x0)))# Iterating until either the tolerance or max iterations is met\n",
    "while abs(f(xi_1)) > tol or i > max_iter:\n",
    "    i = i + 1\n",
    "    xi = xi_1-f(xi_1)/dfdx(xi_1)  # Newton-Raphson equation\n",
    "    print('Iteration ' + str(i) + ': x = ' + str(xi) + ', f(x) = ' + str(f(xi)))\n",
    "    xi_1 = xi"
   ]
  },
  {
   "cell_type": "markdown",
   "metadata": {},
   "source": [
    "> Plotting Equation and Result"
   ]
  },
  {
   "cell_type": "code",
   "execution_count": null,
   "metadata": {},
   "outputs": [],
   "source": [
    "# Creating Data for the Line\n",
    "x_plot = np.linspace(-2, 2, 1000)\n",
    "y_plot = f(x_plot)\n",
    " \n",
    "# Plotting Function\n",
    "fig = plt.figure()\n",
    "plt.plot(x_plot, y_plot, c='blue')\n",
    "plt.plot(xi, f(xi), c='red', marker='o', fillstyle='none')\n",
    "plt.xlim([-2, 2])\n",
    "plt.ylim([-2, 2])\n",
    "plt.xlabel('x')\n",
    "plt.ylabel('y')\n",
    "plt.grid()\n",
    "plt.show()"
   ]
  },
  {
   "cell_type": "markdown",
   "metadata": {},
   "source": [
    "[Source](https://towardsdatascience.com/develop-your-own-newton-raphson-algorithm-in-python-a20a5b68c7dd)"
   ]
  }
 ],
 "metadata": {
  "kernelspec": {
   "display_name": "Python 3.8.6 64-bit",
   "language": "python",
   "name": "python3"
  },
  "language_info": {
   "name": "python",
   "version": "3.8.6"
  },
  "orig_nbformat": 4,
  "vscode": {
   "interpreter": {
    "hash": "ff0d91300876931207232d01add3156fa7c8214350996c757a3c6cebc4b3b5d5"
   }
  }
 },
 "nbformat": 4,
 "nbformat_minor": 2
}
