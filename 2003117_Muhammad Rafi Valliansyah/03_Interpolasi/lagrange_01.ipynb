{
 "cells": [
  {
   "cell_type": "markdown",
   "metadata": {},
   "source": [
    "# Polinomial Lagrange"
   ]
  },
  {
   "cell_type": "code",
   "execution_count": null,
   "metadata": {},
   "outputs": [],
   "source": [
    "\n",
    "# Lagrange Interpolation\n",
    "\n",
    "# Importing NumPy Library\n",
    "import numpy as np\n",
    "\n",
    "# Reading number of unknowns\n",
    "n = int(input('Enter number of data points: '))\n",
    "\n",
    "# Making numpy array of n & n x n size and initializing \n",
    "# to zero for storing x and y value along with differences of y\n",
    "x = np.zeros((n))\n",
    "y = np.zeros((n))\n",
    "\n",
    "\n",
    "# Reading data points\n",
    "print('Enter data for x and y: ')\n",
    "for i in range(n):\n",
    "    x[i] = float(input( 'x['+str(i)+']='))\n",
    "    y[i] = float(input( 'y['+str(i)+']='))\n",
    "\n",
    "\n",
    "# Reading interpolation point\n",
    "xp = float(input('Enter interpolation point: '))\n",
    "\n",
    "# Set interpolated value initially to zero\n",
    "yp = 0\n",
    "\n",
    "# Implementing Lagrange Interpolation\n",
    "for i in range(n):\n",
    "    \n",
    "    p = 1\n",
    "    \n",
    "    for j in range(n):\n",
    "        if i != j:\n",
    "            p = p * (xp - x[j])/(x[i] - x[j])\n",
    "    \n",
    "    yp = yp + p * y[i]    \n",
    "\n",
    "# Displaying output\n",
    "print('Interpolated value at %.3f is %.3f.' % (xp, yp))"
   ]
  },
  {
   "cell_type": "markdown",
   "metadata": {},
   "source": [
    "[Source](https://www.codesansar.com/numerical-methods/python-program-lagrange-interpolation-method.htm)"
   ]
  }
 ],
 "metadata": {
  "kernelspec": {
   "display_name": "Python 3.8.6 64-bit",
   "language": "python",
   "name": "python3"
  },
  "language_info": {
   "name": "python",
   "version": "3.8.6"
  },
  "orig_nbformat": 4,
  "vscode": {
   "interpreter": {
    "hash": "ff0d91300876931207232d01add3156fa7c8214350996c757a3c6cebc4b3b5d5"
   }
  }
 },
 "nbformat": 4,
 "nbformat_minor": 2
}
