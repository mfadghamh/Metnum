{
  "cells": [
    {
      "cell_type": "markdown",
      "metadata": {
        "id": "XX6f9MQOaTas"
      },
      "source": [
        "\n",
        "Buatlah sebuah fungsi penyelesaian yang tepat baik dengan menggunakan metode Newton Raphson ketika \n",
        "f(x) = x^2 - 2x - 8\n"
      ]
    },
    {
      "cell_type": "markdown",
      "metadata": {},
      "source": [
        "Metode Newton-Rapson : Jawab"
      ]
    },
    {
      "cell_type": "code",
      "execution_count": 2,
      "metadata": {},
      "outputs": [
        {
          "name": "stdout",
          "output_type": "stream",
          "text": [
            "Tebakan akar pada iterasi 1 : adalah 4.125, dengan f(x) = 0.765625\n",
            "Tebakan akar pada iterasi 2 : adalah 4.0025, dengan f(x) = 0.015006250000000776\n",
            "Tebakan akar pada iterasi 3 : adalah 4.000001040799334, dengan f(x) = 6.244797086552012e-06\n",
            "Tebakan akar pada iterasi 4 : adalah 4.00000000000018, dengan f(x) = 1.0818013151947525e-12\n",
            "Tebakan akar pada iterasi 5 : adalah 4.0, dengan f(x) = 0.0\n",
            "Akar fungsi A adalah  4.0\n"
          ]
        }
      ],
      "source": [
        "from sympy import *\n",
        "import math as matek\n",
        "\n",
        "def newtRafson(f, df, x, e):\n",
        "    counter = 0\n",
        "    iterasi = True\n",
        "    xi = 0\n",
        "    while iterasi:\n",
        "        if ( df(x) == 0 ): raise Exception(\"Turunan fungsi tidak boleh 0\")\n",
        "        xi = x - (f(x) / df(x))\n",
        "        counter+=1\n",
        "        print(\"Tebakan akar pada iterasi \" + str(counter) + \" : adalah \" + str(xi) + \", dengan f(x) = \" + str(f(xi)))\n",
        "        if(abs(xi - x) < e):\n",
        "            iterasi = False\n",
        "        x = xi\n",
        "    return xi\n",
        "\n",
        "fungsiAA = lambda x: x ** 2 - 2 * x -8\n",
        "dfungsiAA = lambda x: x * 2 - 2\n",
        "\n",
        "print(\"Akar fungsi A adalah \", newtRafson(fungsiAA, dfungsiAA, 5, 0.000001))"
      ]
    }
  ],
  "metadata": {
    "colab": {
      "provenance": []
    },
    "kernelspec": {
      "display_name": "Python 3.8.6 64-bit",
      "language": "python",
      "name": "python3"
    },
    "language_info": {
      "codemirror_mode": {
        "name": "ipython",
        "version": 3
      },
      "file_extension": ".py",
      "mimetype": "text/x-python",
      "name": "python",
      "nbconvert_exporter": "python",
      "pygments_lexer": "ipython3",
      "version": "3.8.6"
    },
    "vscode": {
      "interpreter": {
        "hash": "ff0d91300876931207232d01add3156fa7c8214350996c757a3c6cebc4b3b5d5"
      }
    }
  },
  "nbformat": 4,
  "nbformat_minor": 0
}
