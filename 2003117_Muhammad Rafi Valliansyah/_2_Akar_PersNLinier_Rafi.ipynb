{
  "cells": [
    {
      "cell_type": "markdown",
      "metadata": {
        "id": "Tlb0XvJxS_oW"
      },
      "source": [
        "## **Akar Persamaan Non-Linier**\n",
        "Berikut ini merupakan fungsi dasar dari metode yang dapat digunakan untuk mencari akar Persamaan non-Linier"
      ]
    },
    {
      "cell_type": "markdown",
      "metadata": {
        "id": "8zXDT3F6UTm8"
      },
      "source": [
        "**Pencarian Akar dengan Library**\n",
        "\n",
        "Contoh Fungsi: f(x) = cos(x)-x"
      ]
    },
    {
      "cell_type": "code",
      "execution_count": 1,
      "metadata": {
        "colab": {
          "base_uri": "https://localhost:8080/"
        },
        "id": "gMnlEqjjUnAa",
        "outputId": "dba31922-a0e9-40d4-b136-dad342f9b7fa"
      },
      "outputs": [
        {
          "name": "stdout",
          "output_type": "stream",
          "text": [
            "r = [0.73908513]\n",
            "result= [0.]\n"
          ]
        }
      ],
      "source": [
        "import numpy as np\n",
        "from scipy import optimize\n",
        "f = lambda x: np.cos(x) - x\n",
        "r = optimize.fsolve(f, -2)\n",
        "print(\"r =\",r)\n",
        "# Verify the solution is a root\n",
        "result = f(r)\n",
        "print(\"result=\", result)"
      ]
    },
    {
      "cell_type": "markdown",
      "metadata": {
        "id": "ySxrsdzGTn0Z"
      },
      "source": [
        "**Metode Bagi Dua**"
      ]
    },
    {
      "cell_type": "code",
      "execution_count": 11,
      "metadata": {
        "id": "j7lAxfNeS9M0"
      },
      "outputs": [],
      "source": [
        "import numpy as np #panggil library\n",
        "def my_bisection(f, a, b, e):\n",
        "  if np.sign(f(a)) == np.sign(f(b)):\n",
        "    raise Exception('Tidak ada akar pada interval a dan b')\n",
        "  m = (a + b)/2\n",
        "  if np.abs(f(m)) < e:\n",
        "    return m\n",
        "  elif np.sign(f(a)) == np.sign(f(m)):\n",
        "    return my_bisection(f, m, b, e)\n",
        "  elif np.sign(f(b)) == np.sign(f(m)):\n",
        "    return my_bisection(f, a, m, e)"
      ]
    },
    {
      "cell_type": "markdown",
      "metadata": {
        "id": "QK5X5eINXZln"
      },
      "source": [
        "**Contoh Pencarian Akar dengan Metode Bagi Dua**\n",
        "\n",
        "f(x)=x^2 - 2"
      ]
    },
    {
      "cell_type": "code",
      "execution_count": 12,
      "metadata": {
        "colab": {
          "base_uri": "https://localhost:8080/"
        },
        "id": "eJr_l7e2XyM0",
        "outputId": "9f0a0bf6-a59a-4ae7-fc1c-e4c436d940ea"
      },
      "outputs": [
        {
          "name": "stdout",
          "output_type": "stream",
          "text": [
            "r1 = 1.4375\n",
            "f(r1) = 0.06640625\n",
            "r01 = 1.4140625\n",
            "f(r01) = -0.00042724609375\n"
          ]
        }
      ],
      "source": [
        "import numpy as np #panggil library\n",
        "f = lambda x: x**2-2\n",
        "\n",
        "r1 = my_bisection(f, 0, 2, 0.1)\n",
        "print(\"r1 =\", r1)\n",
        "print(\"f(r1) =\", f(r1))\n",
        "\n",
        "r01 = my_bisection(f, 0, 2, 0.01)\n",
        "print(\"r01 =\", r01)\n",
        "print(\"f(r01) =\", f(r01))"
      ]
    },
    {
      "cell_type": "code",
      "execution_count": 13,
      "metadata": {
        "colab": {
          "base_uri": "https://localhost:8080/",
          "height": 322
        },
        "id": "wXEmWDL3Yh1R",
        "outputId": "66a66430-8175-4210-f0f5-180d79f1eb76"
      },
      "outputs": [
        {
          "ename": "Exception",
          "evalue": "ignored",
          "output_type": "error",
          "traceback": [
            "\u001b[0;31m---------------------------------------------------------------------------\u001b[0m",
            "\u001b[0;31mException\u001b[0m                                 Traceback (most recent call last)",
            "\u001b[0;32m<ipython-input-13-9db7d48a44ca>\u001b[0m in \u001b[0;36m<module>\u001b[0;34m\u001b[0m\n\u001b[1;32m      1\u001b[0m \u001b[0;32mimport\u001b[0m \u001b[0mnumpy\u001b[0m \u001b[0;32mas\u001b[0m \u001b[0mnp\u001b[0m \u001b[0;31m#panggil library\u001b[0m\u001b[0;34m\u001b[0m\u001b[0;34m\u001b[0m\u001b[0m\n\u001b[1;32m      2\u001b[0m \u001b[0mf\u001b[0m \u001b[0;34m=\u001b[0m \u001b[0;32mlambda\u001b[0m \u001b[0mx\u001b[0m\u001b[0;34m:\u001b[0m \u001b[0mx\u001b[0m\u001b[0;34m**\u001b[0m\u001b[0;36m2\u001b[0m\u001b[0;34m-\u001b[0m\u001b[0;36m2\u001b[0m\u001b[0;34m\u001b[0m\u001b[0;34m\u001b[0m\u001b[0m\n\u001b[0;32m----> 3\u001b[0;31m \u001b[0mmy_bisection\u001b[0m\u001b[0;34m(\u001b[0m\u001b[0mf\u001b[0m\u001b[0;34m,\u001b[0m \u001b[0;36m2\u001b[0m\u001b[0;34m,\u001b[0m \u001b[0;36m4\u001b[0m\u001b[0;34m,\u001b[0m \u001b[0;36m0.01\u001b[0m\u001b[0;34m)\u001b[0m\u001b[0;34m\u001b[0m\u001b[0;34m\u001b[0m\u001b[0m\n\u001b[0m",
            "\u001b[0;32m<ipython-input-11-232ee789a6b2>\u001b[0m in \u001b[0;36mmy_bisection\u001b[0;34m(f, a, b, e)\u001b[0m\n\u001b[1;32m      2\u001b[0m \u001b[0;32mdef\u001b[0m \u001b[0mmy_bisection\u001b[0m\u001b[0;34m(\u001b[0m\u001b[0mf\u001b[0m\u001b[0;34m,\u001b[0m \u001b[0ma\u001b[0m\u001b[0;34m,\u001b[0m \u001b[0mb\u001b[0m\u001b[0;34m,\u001b[0m \u001b[0me\u001b[0m\u001b[0;34m)\u001b[0m\u001b[0;34m:\u001b[0m\u001b[0;34m\u001b[0m\u001b[0;34m\u001b[0m\u001b[0m\n\u001b[1;32m      3\u001b[0m   \u001b[0;32mif\u001b[0m \u001b[0mnp\u001b[0m\u001b[0;34m.\u001b[0m\u001b[0msign\u001b[0m\u001b[0;34m(\u001b[0m\u001b[0mf\u001b[0m\u001b[0;34m(\u001b[0m\u001b[0ma\u001b[0m\u001b[0;34m)\u001b[0m\u001b[0;34m)\u001b[0m \u001b[0;34m==\u001b[0m \u001b[0mnp\u001b[0m\u001b[0;34m.\u001b[0m\u001b[0msign\u001b[0m\u001b[0;34m(\u001b[0m\u001b[0mf\u001b[0m\u001b[0;34m(\u001b[0m\u001b[0mb\u001b[0m\u001b[0;34m)\u001b[0m\u001b[0;34m)\u001b[0m\u001b[0;34m:\u001b[0m\u001b[0;34m\u001b[0m\u001b[0;34m\u001b[0m\u001b[0m\n\u001b[0;32m----> 4\u001b[0;31m     \u001b[0;32mraise\u001b[0m \u001b[0mException\u001b[0m\u001b[0;34m(\u001b[0m\u001b[0;34m'Tidak ada akar pada interval a dan b'\u001b[0m\u001b[0;34m)\u001b[0m\u001b[0;34m\u001b[0m\u001b[0;34m\u001b[0m\u001b[0m\n\u001b[0m\u001b[1;32m      5\u001b[0m   \u001b[0mm\u001b[0m \u001b[0;34m=\u001b[0m \u001b[0;34m(\u001b[0m\u001b[0ma\u001b[0m \u001b[0;34m+\u001b[0m \u001b[0mb\u001b[0m\u001b[0;34m)\u001b[0m\u001b[0;34m/\u001b[0m\u001b[0;36m2\u001b[0m\u001b[0;34m\u001b[0m\u001b[0;34m\u001b[0m\u001b[0m\n\u001b[1;32m      6\u001b[0m   \u001b[0;32mif\u001b[0m \u001b[0mnp\u001b[0m\u001b[0;34m.\u001b[0m\u001b[0mabs\u001b[0m\u001b[0;34m(\u001b[0m\u001b[0mf\u001b[0m\u001b[0;34m(\u001b[0m\u001b[0mm\u001b[0m\u001b[0;34m)\u001b[0m\u001b[0;34m)\u001b[0m \u001b[0;34m<\u001b[0m \u001b[0me\u001b[0m\u001b[0;34m:\u001b[0m\u001b[0;34m\u001b[0m\u001b[0;34m\u001b[0m\u001b[0m\n",
            "\u001b[0;31mException\u001b[0m: Tidak ada akar pada interval a dan b"
          ]
        }
      ],
      "source": [
        "import numpy as np #panggil library\n",
        "f = lambda x: x**2-2\n",
        "my_bisection(f, 2, 4, 0.01)"
      ]
    },
    {
      "cell_type": "markdown",
      "metadata": {
        "id": "uqd3qNtxS939"
      },
      "source": [
        "**Metode Newton-Raphson**"
      ]
    },
    {
      "cell_type": "code",
      "execution_count": 5,
      "metadata": {
        "id": "NWM7-9tpVr0a"
      },
      "outputs": [],
      "source": [
        "import numpy as np #panggil library\n",
        "def my_newton(f, df, x0, e):\n",
        "# output is an estimation of the root of f\n",
        "# using the Newton-Raphson method\n",
        "# recursive implementation\n",
        "  if abs(f(x0)) < e:\n",
        "    return x0\n",
        "  else:\n",
        "    return my_newton(f, df, x0 - f(x0)/df(x0), e)"
      ]
    },
    {
      "cell_type": "markdown",
      "metadata": {
        "id": "ffztAnc9ZbtI"
      },
      "source": [
        "**Contoh Pencarian Akar dengan Metode Bagi Dua**\n",
        "\n",
        "f(x)=x^2 - 2"
      ]
    },
    {
      "cell_type": "code",
      "execution_count": 15,
      "metadata": {
        "colab": {
          "base_uri": "https://localhost:8080/"
        },
        "id": "zFJnxIytZhln",
        "outputId": "e6d71caf-ed8a-4bd9-8946-7e39709d49c1"
      },
      "outputs": [
        {
          "name": "stdout",
          "output_type": "stream",
          "text": [
            "estimate = 1.4142135623746899\n",
            "sqrt(2) = 1.4142135623730951\n"
          ]
        }
      ],
      "source": [
        "f = lambda x: x**2-2\n",
        "f_prime = lambda x: 2*x\n",
        "estimate = my_newton(f, f_prime, 1.5, 1e-6)\n",
        "print(\"estimate =\", estimate)\n",
        "print(\"sqrt(2) =\",np.sqrt(2))"
      ]
    },
    {
      "cell_type": "markdown",
      "metadata": {
        "id": "_l79MbNaaO9N"
      },
      "source": [
        "# **Latihan**"
      ]
    },
    {
      "cell_type": "markdown",
      "metadata": {
        "id": "XX6f9MQOaTas"
      },
      "source": [
        "**No.1**\n",
        "\n",
        "Buatlah sebuah fungsi penyelesaian yang tepat baik dengan menggunakan metode Bagi Dua maupun Newton Raphson ketika \n",
        "\n",
        "a. f(x) = x^3 - 2x + 1\n",
        "\n",
        "b. f(x) = e^x - x\n",
        "\n",
        "**No 2**\n",
        "\n",
        "Buatlah modifikasi fungsi ketika kriteria program berhenti adalah sudah mencapai pada iterasi ke-n baik untuk Bagi Dua maupun Newton Raphson"
      ]
    },
    {
      "cell_type": "markdown",
      "metadata": {},
      "source": [
        "Metode Bagi Dua : Jawab"
      ]
    },
    {
      "cell_type": "code",
      "execution_count": 7,
      "metadata": {
        "id": "MjocESJra-b5"
      },
      "outputs": [
        {
          "name": "stdout",
          "output_type": "stream",
          "text": [
            "5.5\n",
            "3.25\n",
            "2.125\n",
            "1.5625\n",
            "1.28125\n",
            "1.140625\n",
            "1.0703125\n",
            "1.03515625\n",
            "1.017578125\n",
            "1.0087890625\n",
            "1.00439453125\n",
            "1.002197265625\n",
            "1.0010986328125\n",
            "1.00054931640625\n",
            "1.000274658203125\n",
            "1.0001373291015625\n",
            "1.0000686645507812\n",
            "Akar fungsi A ditemukan =  1.0000686645507812\n"
          ]
        },
        {
          "ename": "Exception",
          "evalue": "Tidak ada akar pada interval a dan b",
          "output_type": "error",
          "traceback": [
            "\u001b[1;31m---------------------------------------------------------------------------\u001b[0m",
            "\u001b[1;31mException\u001b[0m                                 Traceback (most recent call last)",
            "\u001b[1;32m~\\AppData\\Local\\Temp/ipykernel_16444/976853956.py\u001b[0m in \u001b[0;36m<module>\u001b[1;34m\u001b[0m\n\u001b[0;32m     21\u001b[0m \u001b[1;33m\u001b[0m\u001b[0m\n\u001b[0;32m     22\u001b[0m \u001b[0mprint\u001b[0m\u001b[1;33m(\u001b[0m\u001b[1;34m\"Akar fungsi A ditemukan = \"\u001b[0m\u001b[1;33m,\u001b[0m \u001b[0mbagiDua\u001b[0m\u001b[1;33m(\u001b[0m\u001b[0mfungsiA\u001b[0m\u001b[1;33m,\u001b[0m \u001b[1;36m1\u001b[0m\u001b[1;33m,\u001b[0m \u001b[1;36m10\u001b[0m\u001b[1;33m,\u001b[0m \u001b[1;36m0.0001\u001b[0m\u001b[1;33m)\u001b[0m\u001b[1;33m)\u001b[0m\u001b[1;33m\u001b[0m\u001b[1;33m\u001b[0m\u001b[0m\n\u001b[1;32m---> 23\u001b[1;33m \u001b[0mprint\u001b[0m\u001b[1;33m(\u001b[0m\u001b[1;34m\"Akar fungsi B ditemukan = \"\u001b[0m\u001b[1;33m,\u001b[0m \u001b[0mbagiDua\u001b[0m\u001b[1;33m(\u001b[0m\u001b[0mfungsiB\u001b[0m\u001b[1;33m,\u001b[0m \u001b[1;36m1\u001b[0m\u001b[1;33m,\u001b[0m \u001b[1;36m10\u001b[0m\u001b[1;33m,\u001b[0m \u001b[1;36m0.0001\u001b[0m\u001b[1;33m)\u001b[0m\u001b[1;33m)\u001b[0m\u001b[1;33m\u001b[0m\u001b[1;33m\u001b[0m\u001b[0m\n\u001b[0m",
            "\u001b[1;32m~\\AppData\\Local\\Temp/ipykernel_16444/976853956.py\u001b[0m in \u001b[0;36mbagiDua\u001b[1;34m(f, a, b, e)\u001b[0m\n\u001b[0;32m      4\u001b[0m \u001b[1;32mdef\u001b[0m \u001b[0mbagiDua\u001b[0m\u001b[1;33m(\u001b[0m\u001b[0mf\u001b[0m\u001b[1;33m,\u001b[0m \u001b[0ma\u001b[0m\u001b[1;33m,\u001b[0m \u001b[0mb\u001b[0m\u001b[1;33m,\u001b[0m \u001b[0me\u001b[0m\u001b[1;33m)\u001b[0m\u001b[1;33m:\u001b[0m\u001b[1;33m\u001b[0m\u001b[1;33m\u001b[0m\u001b[0m\n\u001b[0;32m      5\u001b[0m   \u001b[1;32mif\u001b[0m \u001b[0mf\u001b[0m\u001b[1;33m(\u001b[0m\u001b[0ma\u001b[0m\u001b[1;33m)\u001b[0m \u001b[1;33m*\u001b[0m \u001b[0mf\u001b[0m\u001b[1;33m(\u001b[0m\u001b[0mb\u001b[0m\u001b[1;33m)\u001b[0m \u001b[1;33m>\u001b[0m \u001b[1;36m0\u001b[0m\u001b[1;33m:\u001b[0m\u001b[1;33m\u001b[0m\u001b[1;33m\u001b[0m\u001b[0m\n\u001b[1;32m----> 6\u001b[1;33m     \u001b[1;32mraise\u001b[0m \u001b[0mException\u001b[0m\u001b[1;33m(\u001b[0m\u001b[1;34m'Tidak ada akar pada interval a dan b'\u001b[0m\u001b[1;33m)\u001b[0m\u001b[1;33m\u001b[0m\u001b[1;33m\u001b[0m\u001b[0m\n\u001b[0m\u001b[0;32m      7\u001b[0m   \u001b[0mm\u001b[0m \u001b[1;33m=\u001b[0m \u001b[1;33m(\u001b[0m\u001b[0ma\u001b[0m \u001b[1;33m+\u001b[0m \u001b[0mb\u001b[0m\u001b[1;33m)\u001b[0m\u001b[1;33m/\u001b[0m\u001b[1;36m2\u001b[0m\u001b[1;33m\u001b[0m\u001b[1;33m\u001b[0m\u001b[0m\n\u001b[0;32m      8\u001b[0m   \u001b[0mprint\u001b[0m\u001b[1;33m(\u001b[0m\u001b[0mm\u001b[0m\u001b[1;33m)\u001b[0m\u001b[1;33m\u001b[0m\u001b[1;33m\u001b[0m\u001b[0m\n",
            "\u001b[1;31mException\u001b[0m: Tidak ada akar pada interval a dan b"
          ]
        }
      ],
      "source": [
        "# bagi dua\n",
        "# import numpy as np\n",
        "import math as matek\n",
        "def bagiDua(f, a, b, e):\n",
        "  if f(a) * f(b) > 0:\n",
        "    raise Exception('Tidak ada akar pada interval a dan b')\n",
        "  m = (a + b)/2\n",
        "  print(m)\n",
        "  if abs(f(m)) < e:\n",
        "    return m\n",
        "  elif f(a) * f(m) > 0:\n",
        "    return bagiDua(f, m, b, e)\n",
        "  elif f(b) * f(m) > 0:\n",
        "    return bagiDua(f, a, m, e)\n",
        "\n",
        "# f(x) = x**3 - 2 * x + 1\n",
        "def fungsiA(x):\n",
        "    return x ** 3 - 2 * x + 1\n",
        "\n",
        "fungsiB = lambda x: (matek.e ** x) - x\n",
        "\n",
        "print(\"Akar fungsi A ditemukan = \", bagiDua(fungsiA, 1, 10, 0.0001))\n",
        "print(\"Akar fungsi B ditemukan = \", bagiDua(fungsiB, 1, 10, 0.0001))"
      ]
    },
    {
      "cell_type": "markdown",
      "metadata": {},
      "source": [
        "Metode Newton-Rapson : Jawab"
      ]
    },
    {
      "cell_type": "code",
      "execution_count": 5,
      "metadata": {},
      "outputs": [
        {
          "name": "stdout",
          "output_type": "stream",
          "text": [
            "Root Guess in i-1 is 4.066037735849057, with f(x) = 60.09035562914353\n",
            "Root Guess in i-2 is 2.8035819601655785, with f(x) = 17.429191604405844\n",
            "Root Guess in i-3 is 1.9959351752053696, with f(x) = 4.959450821695072\n",
            "Root Guess in i-4 is 1.4975616018846296, with f(x) = 1.3634443504879594\n",
            "Root Guess in i-5 is 1.209189454178377, with f(x) = 0.34962431555225537\n",
            "Root Guess in i-6 is 1.062683518402881, with f(x) = 0.07471748639325182\n",
            "Root Guess in i-7 is 1.008848162555994, with f(x) = 0.00908372522032086\n",
            "Root Guess in i-8 is 1.0002242951091074, with f(x) = 0.00022444604527915857\n",
            "Root Guess in i-9 is 1.0000001507445653, with f(x) = 1.5074463344255662e-07\n",
            "Root Guess in i-10 is 1.0000000000000682, with f(x) = 6.816769371198461e-14\n",
            "Akar fungsi A adalah  1.0000000000000682\n",
            "++++++\n",
            "Root Guess in i-1 is 8.000987400287569, with f(x) = 2975.9018520499158\n",
            "Root Guess in i-2 is 7.0033344386515735, with f(x) = 1093.2925832091448\n",
            "Root Guess in i-3 is 6.008795510909075, with f(x) = 400.9840110175234\n",
            "Root Guess in i-4 is 5.021132664253585, with f(x) = 146.56176646280124\n",
            "Root Guess in i-5 is 4.047836444613536, with f(x) = 53.225572264585004\n",
            "Root Guess in i-6 is 3.101997664175758, with f(x) = 19.140341991086668\n",
            "Root Guess in i-7 is 2.200950872640016, with f(x) = 6.832648346522614\n",
            "Root Guess in i-8 is 1.3504418840630623, with f(x) = 2.50868855815926\n",
            "Root Guess in i-9 is 0.4730112775009754, with f(x) = 1.131808203726498\n",
            "Root Guess in i-10 is -1.3983044437279568, with f(x) = 1.645319881371039\n",
            "Root Guess in i-11 is 0.7867601161894757, with f(x) = 1.409509113535621\n",
            "Root Guess in i-12 is -0.39149397453851775, with f(x) = 1.0675400985108248\n",
            "Root Guess in i-13 is 2.9038519913778362, with f(x) = 15.34043503512788\n",
            "Root Guess in i-14 is 2.0142567873807953, with f(x) = 5.480898029635789\n",
            "Root Guess in i-15 is 1.1704126937378776, with f(x) = 2.0529099153924304\n",
            "Root Guess in i-16 is 0.24706045193457826, with f(x) = 1.0331960524868802\n",
            "Root Guess in i-17 is -3.4395481947397837, with f(x) = 3.4716273703342853\n",
            "Root Guess in i-18 is 0.14713708240215206, with f(x) = 1.011375681455649\n",
            "Root Guess in i-19 is -6.233268235386239, with f(x) = 6.2352312611572644\n",
            "Root Guess in i-20 is 0.01422701996163056, with f(x) = 1.0001016857044125\n",
            "Root Guess in i-21 is -69.78284390979499, with f(x) = 69.78284390979499\n",
            "Root Guess in i-22 is 0.0, with f(x) = 1.0\n"
          ]
        },
        {
          "ename": "Exception",
          "evalue": "Turunan fungsi tidak boleh 0",
          "output_type": "error",
          "traceback": [
            "\u001b[1;31m---------------------------------------------------------------------------\u001b[0m",
            "\u001b[1;31mException\u001b[0m                                 Traceback (most recent call last)",
            "\u001b[1;32m~\\AppData\\Local\\Temp/ipykernel_8196/1365043869.py\u001b[0m in \u001b[0;36m<module>\u001b[1;34m\u001b[0m\n\u001b[0;32m     28\u001b[0m \u001b[0mprint\u001b[0m\u001b[1;33m(\u001b[0m\u001b[1;34m\"Akar fungsi A adalah \"\u001b[0m\u001b[1;33m,\u001b[0m \u001b[0mnewtRafson\u001b[0m\u001b[1;33m(\u001b[0m\u001b[0mfungsiAA\u001b[0m\u001b[1;33m,\u001b[0m \u001b[0mdfungsiAA\u001b[0m\u001b[1;33m,\u001b[0m \u001b[1;36m6\u001b[0m\u001b[1;33m,\u001b[0m \u001b[1;36m0.000001\u001b[0m\u001b[1;33m)\u001b[0m\u001b[1;33m)\u001b[0m\u001b[1;33m\u001b[0m\u001b[1;33m\u001b[0m\u001b[0m\n\u001b[0;32m     29\u001b[0m \u001b[0mprint\u001b[0m\u001b[1;33m(\u001b[0m\u001b[1;34m\"++++++\"\u001b[0m\u001b[1;33m)\u001b[0m\u001b[1;33m\u001b[0m\u001b[1;33m\u001b[0m\u001b[0m\n\u001b[1;32m---> 30\u001b[1;33m \u001b[0mprint\u001b[0m\u001b[1;33m(\u001b[0m\u001b[1;34m\"Akar fungsi B adalah \"\u001b[0m\u001b[1;33m,\u001b[0m \u001b[0mnewtRafson\u001b[0m\u001b[1;33m(\u001b[0m\u001b[0mfungsiBB\u001b[0m\u001b[1;33m,\u001b[0m \u001b[0mdfungsiBB\u001b[0m\u001b[1;33m,\u001b[0m \u001b[1;36m9\u001b[0m\u001b[1;33m,\u001b[0m \u001b[1;36m0.000001\u001b[0m\u001b[1;33m)\u001b[0m\u001b[1;33m)\u001b[0m\u001b[1;33m\u001b[0m\u001b[1;33m\u001b[0m\u001b[0m\n\u001b[0m",
            "\u001b[1;32m~\\AppData\\Local\\Temp/ipykernel_8196/1365043869.py\u001b[0m in \u001b[0;36mnewtRafson\u001b[1;34m(f, df, x, e)\u001b[0m\n\u001b[0;32m      7\u001b[0m     \u001b[0mxi\u001b[0m \u001b[1;33m=\u001b[0m \u001b[1;36m0\u001b[0m\u001b[1;33m\u001b[0m\u001b[1;33m\u001b[0m\u001b[0m\n\u001b[0;32m      8\u001b[0m     \u001b[1;32mwhile\u001b[0m \u001b[0miterasi\u001b[0m\u001b[1;33m:\u001b[0m\u001b[1;33m\u001b[0m\u001b[1;33m\u001b[0m\u001b[0m\n\u001b[1;32m----> 9\u001b[1;33m         \u001b[1;32mif\u001b[0m \u001b[1;33m(\u001b[0m \u001b[0mdf\u001b[0m\u001b[1;33m(\u001b[0m\u001b[0mx\u001b[0m\u001b[1;33m)\u001b[0m \u001b[1;33m==\u001b[0m \u001b[1;36m0\u001b[0m \u001b[1;33m)\u001b[0m\u001b[1;33m:\u001b[0m \u001b[1;32mraise\u001b[0m \u001b[0mException\u001b[0m\u001b[1;33m(\u001b[0m\u001b[1;34m\"Turunan fungsi tidak boleh 0\"\u001b[0m\u001b[1;33m)\u001b[0m\u001b[1;33m\u001b[0m\u001b[1;33m\u001b[0m\u001b[0m\n\u001b[0m\u001b[0;32m     10\u001b[0m         \u001b[0mxi\u001b[0m \u001b[1;33m=\u001b[0m \u001b[0mx\u001b[0m \u001b[1;33m-\u001b[0m \u001b[1;33m(\u001b[0m\u001b[0mf\u001b[0m\u001b[1;33m(\u001b[0m\u001b[0mx\u001b[0m\u001b[1;33m)\u001b[0m \u001b[1;33m/\u001b[0m \u001b[0mdf\u001b[0m\u001b[1;33m(\u001b[0m\u001b[0mx\u001b[0m\u001b[1;33m)\u001b[0m\u001b[1;33m)\u001b[0m\u001b[1;33m\u001b[0m\u001b[1;33m\u001b[0m\u001b[0m\n\u001b[0;32m     11\u001b[0m         \u001b[0mcounter\u001b[0m\u001b[1;33m+=\u001b[0m\u001b[1;36m1\u001b[0m\u001b[1;33m\u001b[0m\u001b[1;33m\u001b[0m\u001b[0m\n",
            "\u001b[1;31mException\u001b[0m: Turunan fungsi tidak boleh 0"
          ]
        }
      ],
      "source": [
        "from sympy import *\n",
        "import math as matek\n",
        "\n",
        "def newtRafson(f, df, x, e):\n",
        "    counter = 0\n",
        "    iterasi = True\n",
        "    xi = 0\n",
        "    while iterasi:\n",
        "        if ( df(x) == 0 ): raise Exception(\"Turunan fungsi tidak boleh 0\")\n",
        "        xi = x - (f(x) / df(x))\n",
        "        counter+=1\n",
        "        print(\"Root Guess in i-\" + str(counter) + \" is \" + str(xi) + \", with f(x) = \" + str(f(xi)))\n",
        "        if(abs(xi - x) < e):\n",
        "            iterasi = False\n",
        "        x = xi\n",
        "    return xi\n",
        "\n",
        "fungsiAA = lambda x: x ** 3 - 2 * x + 1\n",
        "dfungsiAA = lambda x: 3 * x ** 2 - 2\n",
        "\n",
        "a = symbols(\"x\")\n",
        "fungsiBB = (matek.e ** a) - a\n",
        "dfungsiBB = fungsiBB.diff(a)\n",
        "\n",
        "fungsiBB = lambdify(a, fungsiBB)\n",
        "dfungsiBB = lambdify(a, dfungsiBB)\n",
        "\n",
        "print(\"Akar fungsi A adalah \", newtRafson(fungsiAA, dfungsiAA, 6, 0.000001))\n",
        "print(\"++++++\")\n",
        "print(\"Akar fungsi B adalah \", newtRafson(fungsiBB, dfungsiBB, 9, 0.000001))"
      ]
    },
    {
      "cell_type": "markdown",
      "metadata": {},
      "source": [
        "Nomor 2 : The Simplified"
      ]
    },
    {
      "cell_type": "code",
      "execution_count": null,
      "metadata": {},
      "outputs": [],
      "source": [
        "import math as matek\n",
        "from sympy import *\n",
        "# bagi dua modified\n",
        "def bagiDua(f, a, b, e, i):\n",
        "    # i sebagai counter, di set pada saat pembuatan fungsi\n",
        "    if f(a) * f(b) > 0:\n",
        "      raise Exception('Tidak ada akar pada interval a dan b')\n",
        "    \n",
        "    m = (a + b)/2\n",
        "    print(m)\n",
        "    \n",
        "    if i > 20: # \n",
        "        return m\n",
        "    else:\n",
        "        i = i + 1\n",
        "\n",
        "    if abs(f(m)) < e:\n",
        "      return m\n",
        "    elif f(a) * f(m) > 0:\n",
        "      return bagiDua(f, m, b, e)\n",
        "    elif f(b) * f(m) > 0:\n",
        "      return bagiDua(f, a, m, e)\n",
        "\n",
        "# newton-rafson modified\n",
        "def newtRafson(f, df, x, e, c):\n",
        "  # parameter c bertindak sebagai batas maksimum lelaran boleh dijalankan\n",
        "  counter = 0\n",
        "  iterasi = True\n",
        "  xi = 0\n",
        "  while iterasi:\n",
        "      if ( df(x) == 0 ): raise Exception(\"Turunan fungsi tidak boleh 0\")\n",
        "      xi = x - (f(x) / df(x))\n",
        "      counter+=1\n",
        "      print(\"Tebakan akar pada iterasi \" + str(counter) + \" : adalah \" + str(xi) + \", dengan f(x) = \" + str(f(xi)))\n",
        "      if counter > c:\n",
        "        return xi\n",
        "      if(abs(xi - x) < e):\n",
        "          iterasi = False\n",
        "      x = xi\n",
        "  return xi"
      ]
    }
  ],
  "metadata": {
    "colab": {
      "provenance": []
    },
    "kernelspec": {
      "display_name": "Python 3.8.6 64-bit ('3.8.6')",
      "language": "python",
      "name": "python3"
    },
    "language_info": {
      "codemirror_mode": {
        "name": "ipython",
        "version": 3
      },
      "file_extension": ".py",
      "mimetype": "text/x-python",
      "name": "python",
      "nbconvert_exporter": "python",
      "pygments_lexer": "ipython3",
      "version": "3.8.6"
    },
    "vscode": {
      "interpreter": {
        "hash": "a9b02a300604dbf31b99c1f3f895b3948fb8c72a3bbdaa1f61cfe780a1ac0c65"
      }
    }
  },
  "nbformat": 4,
  "nbformat_minor": 0
}
